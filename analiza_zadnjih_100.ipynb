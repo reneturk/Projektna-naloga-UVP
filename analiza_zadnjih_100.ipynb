{
 "cells": [
  {
   "cell_type": "markdown",
   "metadata": {},
   "source": [
    "# Analiza zadnjih 100 oglasov na portalu avto.net (dne 26.10.2023)\n",
    "\n",
    "Na portalu [avto.net](https://www.avto.net/) je posebna [stran](https://www.avto.net/Ads/results_100.asp?oglasrubrika=1&prodajalec=2), ki vsebuje zadnjih 100 objavljenih oglasov (stran se sproti spreminja).\n",
    "\n"
   ]
  },
  {
   "cell_type": "code",
   "execution_count": 6,
   "metadata": {},
   "outputs": [
    {
     "ename": "NameError",
     "evalue": "name 'requests' is not defined",
     "output_type": "error",
     "traceback": [
      "\u001b[1;31m---------------------------------------------------------------------------\u001b[0m",
      "\u001b[1;31mNameError\u001b[0m                                 Traceback (most recent call last)",
      "\u001b[1;32mc:\\Users\\renet\\OneDrive\\Namizje\\Projektna uvp\\Github repository folder\\Projektna-naloga-UVP\\analiza_zadnjih_100.ipynb Cell 2\u001b[0m line \u001b[0;36m1\n\u001b[0;32m      <a href='vscode-notebook-cell:/c%3A/Users/renet/OneDrive/Namizje/Projektna%20uvp/Github%20repository%20folder/Projektna-naloga-UVP/analiza_zadnjih_100.ipynb#W1sZmlsZQ%3D%3D?line=0'>1</a>\u001b[0m \u001b[39m#s kodo v tem okvirčku izluščimo html iz spletne podstrani, ki vsebuje zadnjih 100 oglasov\u001b[39;00m\n\u001b[0;32m      <a href='vscode-notebook-cell:/c%3A/Users/renet/OneDrive/Namizje/Projektna%20uvp/Github%20repository%20folder/Projektna-naloga-UVP/analiza_zadnjih_100.ipynb#W1sZmlsZQ%3D%3D?line=2'>3</a>\u001b[0m headers \u001b[39m=\u001b[39m {\n\u001b[0;32m      <a href='vscode-notebook-cell:/c%3A/Users/renet/OneDrive/Namizje/Projektna%20uvp/Github%20repository%20folder/Projektna-naloga-UVP/analiza_zadnjih_100.ipynb#W1sZmlsZQ%3D%3D?line=3'>4</a>\u001b[0m     \u001b[39m'\u001b[39m\u001b[39mAccept\u001b[39m\u001b[39m'\u001b[39m: \u001b[39m'\u001b[39m\u001b[39mtext/html, image/avif, image/webp, image/apng, image/svg+xml, */ *; q=0.8\u001b[39m\u001b[39m'\u001b[39m,\n\u001b[0;32m      <a href='vscode-notebook-cell:/c%3A/Users/renet/OneDrive/Namizje/Projektna%20uvp/Github%20repository%20folder/Projektna-naloga-UVP/analiza_zadnjih_100.ipynb#W1sZmlsZQ%3D%3D?line=4'>5</a>\u001b[0m     \u001b[39m'\u001b[39m\u001b[39mAccept-Encoding\u001b[39m\u001b[39m'\u001b[39m: \u001b[39m'\u001b[39m\u001b[39mgzip, deflate, br\u001b[39m\u001b[39m'\u001b[39m,\n\u001b[1;32m   (...)\u001b[0m\n\u001b[0;32m     <a href='vscode-notebook-cell:/c%3A/Users/renet/OneDrive/Namizje/Projektna%20uvp/Github%20repository%20folder/Projektna-naloga-UVP/analiza_zadnjih_100.ipynb#W1sZmlsZQ%3D%3D?line=12'>13</a>\u001b[0m     \u001b[39m'\u001b[39m\u001b[39mUser-Agent\u001b[39m\u001b[39m'\u001b[39m: \u001b[39m'\u001b[39m\u001b[39mMozilla/5.0 (Windows NT 10.0; Win64; x64) AppleWebKit/537.36 (KHTML, like Gecko) Chrome/110.0.0.0 Safari/537.36\u001b[39m\u001b[39m'\u001b[39m\n\u001b[0;32m     <a href='vscode-notebook-cell:/c%3A/Users/renet/OneDrive/Namizje/Projektna%20uvp/Github%20repository%20folder/Projektna-naloga-UVP/analiza_zadnjih_100.ipynb#W1sZmlsZQ%3D%3D?line=13'>14</a>\u001b[0m }\n\u001b[1;32m---> <a href='vscode-notebook-cell:/c%3A/Users/renet/OneDrive/Namizje/Projektna%20uvp/Github%20repository%20folder/Projektna-naloga-UVP/analiza_zadnjih_100.ipynb#W1sZmlsZQ%3D%3D?line=15'>16</a>\u001b[0m data_request \u001b[39m=\u001b[39m requests\u001b[39m.\u001b[39mget(\u001b[39m'\u001b[39m\u001b[39mhttps://www.avto.net/Ads/results_100.asp?\u001b[39m\u001b[39m'\u001b[39m, headers\u001b[39m=\u001b[39mheaders)\n\u001b[0;32m     <a href='vscode-notebook-cell:/c%3A/Users/renet/OneDrive/Namizje/Projektna%20uvp/Github%20repository%20folder/Projektna-naloga-UVP/analiza_zadnjih_100.ipynb#W1sZmlsZQ%3D%3D?line=16'>17</a>\u001b[0m soup \u001b[39m=\u001b[39m BeautifulSoup(data_request\u001b[39m.\u001b[39mcontent, \u001b[39m'\u001b[39m\u001b[39mhtml.parser\u001b[39m\u001b[39m'\u001b[39m)\n\u001b[0;32m     <a href='vscode-notebook-cell:/c%3A/Users/renet/OneDrive/Namizje/Projektna%20uvp/Github%20repository%20folder/Projektna-naloga-UVP/analiza_zadnjih_100.ipynb#W1sZmlsZQ%3D%3D?line=17'>18</a>\u001b[0m vsebina_html \u001b[39m=\u001b[39m soup\u001b[39m.\u001b[39mprettify()\n",
      "\u001b[1;31mNameError\u001b[0m: name 'requests' is not defined"
     ]
    }
   ],
   "source": [
    "#s kodo v tem okvirčku izluščimo html iz spletne podstrani, ki vsebuje zadnjih 100 oglasov\n",
    "import requests\n",
    "from bs4 import BeautifulSoup\n",
    "\n",
    "headers = {\n",
    "    'Accept': 'text/html, image/avif, image/webp, image/apng, image/svg+xml, */ *; q=0.8',\n",
    "    'Accept-Encoding': 'gzip, deflate, br',\n",
    "    'Accept-Language': 'en-US, en;q=0.9',\n",
    "    'Connection': 'keep-alive',\n",
    "    'Upgrade-Insecure-Requests': '1',\n",
    "    'Sec-Fetch-Dest': 'document',\n",
    "    'Sec-Fetch-Mode': 'navigate',\n",
    "    'Sec-Fetch-User': '?1',\n",
    "    'Sec-Fetch-Site': 'none',\n",
    "    'User-Agent': 'Mozilla/5.0 (Windows NT 10.0; Win64; x64) AppleWebKit/537.36 (KHTML, like Gecko) Chrome/110.0.0.0 Safari/537.36'\n",
    "}\n",
    "\n",
    "data_request = requests.get('https://www.avto.net/Ads/results_100.asp?', headers=headers)\n",
    "soup = BeautifulSoup(data_request.content, 'html.parser')\n",
    "vsebina_html = soup.prettify()\n",
    "with open(\"zadnjih_100.html\", \"w\", encoding='utf-8') as f:\n",
    "     print(vsebina_html, file=f)\n",
    "\n",
    "\n",
    "# print(data_request.status_code)"
   ]
  },
  {
   "cell_type": "code",
   "execution_count": 42,
   "metadata": {},
   "outputs": [
    {
     "name": "stdout",
     "output_type": "stream",
     "text": [
      "{'Volkswagen Passat CC 1.8 TSI avt.': {'1.registracija': '2011', 'Prevoženih': '270000 km', 'Gorivo': 'bencinski motor', 'Menjalnik': 'avtomatski menjalnik', 'Motor': '160 KM'}, 'Kia Ceed': {'1.registracija': '2008', 'Prevoženih': '200000 km', 'Gorivo': 'bencinski motor', 'Menjalnik': 'ročni menjalnik', 'Motor': '109 KM'}, 'Opel Insignia 2.0 CDTI EDITION VELIKA NAVI-PDC-TEMP.-ALU-XENON-': {'1.registracija': '2015', 'Prevoženih': '241031 km', 'Gorivo': 'diesel motor', 'Menjalnik': 'ročni menjalnik', 'Motor': '163 KM'}, 'Renault Clio Rip Curl2 1.2 16v 3V': {'1.registracija': '2008', 'Prevoženih': '263000 km', 'Gorivo': 'bencinski motor', 'Menjalnik': 'ročni menjalnik', 'Motor': '75 KM'}, 'Opel Grandland X 1.5 DIESEL 130 Elite - BOGATO OPREMLJEN': {'1.registracija': '2020', 'Prevoženih': '140000 km', 'Gorivo': 'diesel motor', 'Menjalnik': 'ročni menjalnik', 'Motor': '131 KM'}, 'Audi A4 Avant 2.0 TDI S tronic 110  150': {'1.registracija': '2016', 'Prevoženih': '270000 km', 'Gorivo': 'diesel motor', 'Menjalnik': 'avtomatski menjalnik', 'Motor': '150 KM'}, 'BMW serija 4 Gran Coupe: 420i Sport Line KOT NOV. MOŽNOST MENJAVA. UGODNO': {'1.registracija': '2018', 'Prevoženih': '125000 km', 'Gorivo': 'bencinski motor', 'Menjalnik': 'ročni menjalnik', 'Motor': '184 KM'}, 'Mercedes-Benz GLC-Razred GLC 220 d 4MATIC AMG': {'1.registracija': '2018', 'Prevoženih': '60000 km', 'Gorivo': 'diesel motor', 'Menjalnik': 'avtomatski menjalnik', 'Motor': '170 KM'}, 'Citroen C4 Grand Picasso Seduction BlueHDi 150 2.0-AVT-NAVI-PDC-LEASING': {'1.registracija': '2015', 'Prevoženih': '251000 km', 'Gorivo': 'diesel motor', 'Menjalnik': 'avtomatski menjalnik', 'Motor': '150 KM'}, 'BMW serija X5: xDrive35d-BI-XENON-NAVI-PDC-SERVISNA KNJ': {'1.registracija': '2010', 'Prevoženih': '329000 km', 'Gorivo': 'diesel motor', 'Menjalnik': 'avtomatski menjalnik', 'Motor': '286 KM'}, 'Škoda Fabia Style Combi 1.0 TSI 81kW': {'1.registracija': '2017', 'Prevoženih': '90000 km', 'Gorivo': 'bencinski motor', 'Menjalnik': 'ročni menjalnik', 'Motor': '110 KM'}, 'Volvo XC60 D3 Momentum': {'1.registracija': '2018', 'Prevoženih': '214000 km', 'Gorivo': 'diesel motor', 'Menjalnik': 'ročni menjalnik', 'Motor': '150 KM'}, 'Volkswagen Polo': {'1.registracija': '2005', 'Prevoženih': '215000 km', 'Gorivo': 'diesel motor', 'Menjalnik': 'ročni menjalnik', 'Motor': '101 KM'}, 'Proton serija 400: persona 416 GLXi': {'1.registracija': '1996', 'Prevoženih': '216000 km', 'Gorivo': 'bencinski motor', 'Menjalnik': 'ročni menjalnik', 'Motor': '113 KM'}, 'Volkswagen Golf 1.6 TDI BMT 40 let XENON': {'1.registracija': '2014', 'Prevoženih': '204000 km', 'Gorivo': 'diesel motor', 'Menjalnik': 'ročni menjalnik', 'Motor': '105 KM'}, 'Volkswagen Golf 1.6 TDI BlueMotion Tech Comfort.77kW': {'1.registracija': '2012', 'Prevoženih': '227800 km', 'Gorivo': 'diesel motor', 'Menjalnik': 'ročni menjalnik', 'Motor': '105 KM'}, 'Mercedes-Benz E-Razred E 200': {'1.registracija': '2019', 'Prevoženih': '70000 km', 'Gorivo': 'bencinski motor', 'Menjalnik': 'avtomatski menjalnik', 'Motor': '184 KM'}, 'Audi A6 3.0 TDI quattro S-TRONIC-NAVI-PDC-TEMP': {'1.registracija': '2013', 'Prevoženih': '265000 km', 'Gorivo': 'diesel motor', 'Menjalnik': 'avtomatski menjalnik', 'Motor': '204 KM'}, 'Renault Clio °°Life 1.2 16v°°1LAST°°SLO°°94000KM°°SAMO Z OSEBNO': {'1.registracija': '2017', 'Prevoženih': '9300 km', 'Gorivo': 'bencinski motor', 'Menjalnik': 'ročni menjalnik', 'Motor': '75 KM'}, 'Volkswagen Passat 3.2 FSI 4M R 32 4 MOTION DSG': {'1.registracija': '2010', 'Prevoženih': '217900 km', 'Gorivo': 'bencinski motor', 'Menjalnik': 'avtomatski menjalnik', 'Motor': '250 KM'}, 'Seat Ibiza Fresc STELLA 1.4 16V 75': {'1.registracija': '2004', 'Prevoženih': '210000 km', 'Gorivo': 'bencinski motor', 'Menjalnik': 'ročni menjalnik', 'Motor': '75 KM'}, 'Suzuki Ignis 1.2 VVT 4x4 SAMO 79.900KM-VRHUNSKI-ALU-GRE.SEDEŽEV': {'1.registracija': '2018', 'Prevoženih': '79900 km', 'Gorivo': 'bencinski motor', 'Menjalnik': 'ročni menjalnik', 'Motor': '90 KM'}, 'Seat Leon 1.2 TSI': {'1.registracija': '2012', 'Prevoženih': '239700 km', 'Gorivo': 'bencinski motor', 'Menjalnik': 'ročni menjalnik', 'Motor': '105 KM'}, 'Volkswagen Golf 2.0 TDI-LEASING-HIGHLINE-TEMPO-MULTI VOLAN-': {'1.registracija': '2012', 'Prevoženih': '200000 km', 'Gorivo': 'diesel motor', 'Menjalnik': 'ročni menjalnik', 'Motor': '140 KM'}, 'Audi TT ROADSTER 2.0 TFSI NAVI-USNJE-PDC-TEMPOMAT-MENJAVA': {'1.registracija': '2007', 'Prevoženih': '151000 km', 'Gorivo': 'bencinski motor', 'Menjalnik': 'ročni menjalnik', 'Motor': '200 KM'}, 'Renault Megane 1.9 dCi - Financiranje brez pologa': {'1.registracija': '2010', 'Prevoženih': '270000 km', 'Gorivo': 'diesel motor', 'Menjalnik': 'ročni menjalnik', 'Motor': '131 KM'}, 'BMW serija X3: xDrive20d-135KW-AUT-VELIKA NAVI-KAMERA-USNJE-XENON': {'1.registracija': '2012', 'Prevoženih': '200000 km', 'Gorivo': 'diesel motor', 'Menjalnik': 'avtomatski menjalnik', 'Motor': '184 KM'}, 'Kia Pro_Ceed 1.4 CVVT   80 kW LX FRESH': {'1.registracija': '2009', 'Prevoženih': '168150 km', 'Gorivo': 'bencinski motor', 'Menjalnik': 'ročni menjalnik', 'Motor': '109 KM'}, 'Mercedes-Benz C-Razred C 200 Kopmpressor': {'1.registracija': '2009', 'Prevoženih': '298288 km', 'Gorivo': 'bencinski motor', 'Menjalnik': 'ročni menjalnik', 'Motor': '184 KM'}, 'Renault Megane 1.5DCI 85 ELAN': {'1.registracija': '2008', 'Prevoženih': '252000 km', 'Gorivo': 'diesel motor', 'Menjalnik': 'ročni menjalnik', 'Motor': '86 KM'}, 'BMW serija X1: X1 xDrive20d-M PAKET-4X4-HARMAN KARDON-PANORAMA': {'1.registracija': '2018', 'Prevoženih': '199900 km', 'Gorivo': 'diesel motor', 'Menjalnik': 'ročni menjalnik', 'Motor': '190 KM'}, 'Volkswagen Passat Variant 2.0 TDI-LEASING ZA TUJCE-NAVI-TEMPOMAT-GR.SED-PDC': {'1.registracija': '2012', 'Prevoženih': '194785 km', 'Gorivo': 'diesel motor', 'Menjalnik': 'ročni menjalnik', 'Motor': '140 KM'}, 'Volkswagen Tiguan 2.0 TDi DSG7 Elegance - SLO - le 29.170 km': {'1.registracija': '2021', 'Prevoženih': '29170 km', 'Gorivo': 'diesel motor', 'Menjalnik': 'avtomatski menjalnik', 'Motor': '150 KM'}, 'BMW serija 3 Touring: 320d M Sport': {'1.registracija': '2020', 'Prevoženih': '93699 km', 'Gorivo': 'diesel motor', 'Menjalnik': 'avtomatski menjalnik', 'Motor': '190 KM'}, 'Volkswagen Golf': {'1.registracija': '2010', 'Prevoženih': '278000 km', 'Gorivo': 'diesel motor', 'Menjalnik': 'ročni menjalnik', 'Motor': '105 KM'}, 'Toyota Yaris 1.5 VVT-iE Mienium 20 let Yaris. Kamera -navi...': {'1.registracija': '2019', 'Prevoženih': '73000 km', 'Gorivo': 'bencinski motor', 'Menjalnik': 'ročni menjalnik', 'Motor': '111 KM'}, 'Renault Megane Expression dCi 90': {'1.registracija': '2013', 'Prevoženih': '167139 km', 'Gorivo': 'diesel motor', 'Menjalnik': 'ročni menjalnik', 'Motor': '90 KM'}, 'Audi A7 3.0 TDI-S LINE-ZRAČNO-MATRIX-STR.OKNO-KAMERA-USNJE': {'1.registracija': '2015', 'Prevoženih': '179582 km', 'Gorivo': 'diesel motor', 'Menjalnik': 'avtomatski menjalnik', 'Motor': '272 KM'}, 'Citroen C3 Attraction HDi 70 BVM': {'1.registracija': '2014', 'Prevoženih': '159000 km', 'Gorivo': 'diesel motor', 'Menjalnik': 'ročni menjalnik', 'Motor': '68 KM'}, 'Audi A4 Avant 1.8i KLIMATRONIK 92kw LES PRIKLOP': {'1.registracija': '1998', 'Prevoženih': '233000 km', 'Gorivo': 'bencinski motor', 'Menjalnik': 'ročni menjalnik', 'Motor': '125 KM'}, 'Ford S-Max TREND 1.8 TDCi  125KM': {'1.registracija': '2010', 'Prevoženih': '305888 km', 'Gorivo': 'diesel motor', 'Menjalnik': 'ročni menjalnik', 'Motor': '125 KM'}, 'Renault Twingo 1.2': {'1.registracija': '1999', 'Prevoženih': '168000 km', 'Gorivo': 'bencinski motor', 'Menjalnik': 'ročni menjalnik', 'Motor': '58 KM'}, 'BMW serija 5: 525d-AUT-XDRIVE-4X4-VELIKA NAVI-KAMERA-USNJE-2XPDC': {'1.registracija': '2013', 'Prevoženih': '237856 km', 'Gorivo': 'diesel motor', 'Menjalnik': 'avtomatski menjalnik', 'Motor': '218 KM'}, 'Audi A4 2.0 TDI quattro S tronic Sport 140kW MATRIX ALU19': {'1.registracija': '2017', 'Prevoženih': '179000 km', 'Gorivo': 'diesel motor', 'Menjalnik': 'avtomatski menjalnik', 'Motor': '190 KM'}, 'Opel Corsa 1.4 16V…AVTOMATIK…43.000km': {'1.registracija': '2012', 'Prevoženih': '43000 km', 'Gorivo': 'bencinski motor', 'Menjalnik': 'avtomatski menjalnik', 'Motor': '101 KM'}, 'Renault Espace 2.0 dCi 150 Initiale': {'1.registracija': '2010', 'Prevoženih': '276000 km', 'Gorivo': 'diesel motor', 'Menjalnik': 'ročni menjalnik', 'Motor': '150 KM'}, 'Volkswagen Tiguan Allspace 2.0TDI 4M  R-Line-FULL LED-ACC-NAVI-KAM-VL. KLUKA': {'1.registracija': '2020', 'Prevoženih': '146500 km', 'Gorivo': 'diesel motor', 'Menjalnik': 'avtomatski menjalnik', 'Motor': '190 KM'}, 'Kia Picanto 1.0 LX SPORT ABS AC SLOVENSKA. 2.LASTNICA': {'1.registracija': '2005', 'Prevoženih': '158000 km', 'Gorivo': 'bencinski motor', 'Menjalnik': 'ročni menjalnik', 'Motor': '63 KM'}, 'Audi A7 3.0 TDI quattro S tronic 180  245': {'1.registracija': '2014', 'Prevoženih': '270000 km', 'Gorivo': 'diesel motor', 'Menjalnik': 'avtomatski menjalnik', 'Motor': '245 KM'}, 'Opel Zafira 2.0 CDTI 121KW COSMO AUTO- 7 SEDEŽEV': {'1.registracija': '2014', 'Prevoženih': '340000 km', 'Gorivo': 'diesel motor', 'Menjalnik': 'avtomatski menjalnik', 'Motor': '165 KM'}, 'Mercedes-Benz C-Razred C 220 CDI-125KW-LEASING-XENON-GR.SEDEŽEV-NAVI-': {'1.registracija': '2013', 'Prevoženih': '233856 km', 'Gorivo': 'diesel motor', 'Menjalnik': 'ročni menjalnik', 'Motor': '170 KM'}, 'Citroen C3 Picasso VTi 120 - SAMO 60000 KM - ODLIČNO OHRANJEN -': {'1.registracija': '2013', 'Prevoženih': '60000 km', 'Gorivo': 'bencinski motor', 'Menjalnik': 'ročni menjalnik', 'Motor': '120 KM'}, 'Volkswagen Passat Variant 2.0 TDI BlueM.Tech. Highline avt. 103kW': {'1.registracija': '2011', 'Prevoženih': '355000 km', 'Gorivo': 'diesel motor', 'Menjalnik': 'avtomatski menjalnik', 'Motor': '140 KM'}, 'Fiat Bravo 1.4 T-Jet 16v 120 Emotion': {'1.registracija': '2009', 'Prevoženih': '191500 km', 'Gorivo': 'bencinski motor', 'Menjalnik': 'ročni menjalnik', 'Motor': '120 KM'}, 'Volkswagen Multivan BENCIN 2.0 TSI BULLI EDITION': {'1.registracija': '2023', 'Prevoženih': '13700 km', 'Gorivo': 'bencinski motor', 'Menjalnik': 'avtomatski menjalnik', 'Motor': '204 KM'}, 'Suzuki SX4 S-Cross 1.4 BOOSTERJET ELEGANCE TOP 4WD AUTO': {'1.registracija': '2019', 'Prevoženih': '51100 km', 'Gorivo': 'bencinski motor', 'Menjalnik': 'avtomatski menjalnik', 'Motor': '140 KM'}, 'Škoda Octavia 2.0 TDI Style 110 kW': {'1.registracija': '2016', 'Prevoženih': '198000 km', 'Gorivo': 'diesel motor', 'Menjalnik': 'ročni menjalnik', 'Motor': '150 KM'}, 'Mercedes-Benz E-Razred E 220CDI-AUT-AVANTGARDE-GR+EL.SEDEŽEV-NAVI-2XPD': {'1.registracija': '2014', 'Prevoženih': '236854 km', 'Gorivo': 'diesel motor', 'Menjalnik': 'avtomatski menjalnik', 'Motor': '170 KM'}, 'Hyundai i20 1.2 CVVT COMFORT': {'1.registracija': '2018', 'Prevoženih': '58000 km', 'Gorivo': 'bencinski motor', 'Menjalnik': 'ročni menjalnik', 'Motor': '84 KM'}, 'Ford Fusion 1.6l  100KM': {'1.registracija': '2006', 'Prevoženih': '153000 km', 'Gorivo': 'bencinski motor', 'Menjalnik': 'ročni menjalnik', 'Motor': '101 KM'}, 'Audi Q5 2.0 TDI DPF quattro 125kW S tronic': {'1.registracija': '2011', 'Prevoženih': '259000 km', 'Gorivo': 'diesel motor', 'Menjalnik': 'avtomatski menjalnik', 'Motor': '170 KM'}, 'Mercedes-Benz CLK-Razred CLK 270 CDI AVANTGARDE': {'1.registracija': '2004', 'Prevoženih': '409000 km', 'Gorivo': 'diesel motor', 'Menjalnik': 'avtomatski menjalnik', 'Motor': '170 KM'}, 'Renault Megane Blue dCi 115 FAP INTENS EDC': {'1.registracija': '2020', 'Prevoženih': '33000 km', 'Gorivo': 'diesel motor', 'Menjalnik': 'avtomatski menjalnik', 'Motor': '116 KM'}, 'Peugeot 5008 1.6 HDI 110 FAP 1.LASTNIK-SLO-150.000km': {'1.registracija': '2012', 'Prevoženih': '150000 km', 'Gorivo': 'diesel motor', 'Menjalnik': 'ročni menjalnik', 'Motor': '111 KM'}, 'Volkswagen Passat 2.0 TDI+LIMO+TEMPOMAT+MULTI.VOLAN+ALU+RADIO CD': {'1.registracija': '2005', 'Prevoženih': '302739 km', 'Gorivo': 'diesel motor', 'Menjalnik': 'ročni menjalnik', 'Motor': '122 KM'}, 'BMW serija X2: xDrive20d ... M SPORT X': {'1.registracija': '2019', 'Prevoženih': '87910 km', 'Gorivo': 'diesel motor', 'Menjalnik': 'avtomatski menjalnik', 'Motor': '190 KM'}, 'Audi SQ7 4.0TDI|quattro|7SEDEZEV|MATRIX|KAMERA|ZRACNO|ACC': {'1.registracija': '2017', 'Prevoženih': '153000 km', 'Gorivo': 'diesel motor', 'Menjalnik': 'avtomatski menjalnik', 'Motor': '435 KM'}, 'Mercedes-Benz C-Razred W205': {'1.registracija': '2000', 'Prevoženih': '165000 km', 'Gorivo': 'bencinski motor', 'Menjalnik': 'ročni menjalnik', 'Motor': '156 KM'}, 'Volkswagen Golf 2.0 FSI turbo GTI-XENON-TEMPOMAT-17COL-KREDIT...': {'1.registracija': '2007', 'Prevoženih': '273000 km', 'Gorivo': 'bencinski motor', 'Menjalnik': 'ročni menjalnik', 'Motor': '200 KM'}, 'Volkswagen Touran 2.0 TDI SCR avt. Highline 110  150': {'1.registracija': '2016', 'Prevoženih': '228000 km', 'Gorivo': 'diesel motor', 'Menjalnik': 'avtomatski menjalnik', 'Motor': '150 KM'}, 'Volkswagen Golf 2.0 TDI R-Line Edition 110  150': {'1.registracija': '2018', 'Prevoženih': '150000 km', 'Gorivo': 'diesel motor', 'Menjalnik': 'ročni menjalnik', 'Motor': '150 KM'}, 'Škoda Superb 1.6 TDI Ambition Combi 88 kW': {'1.registracija': '2017', 'Prevoženih': '242500 km', 'Gorivo': 'diesel motor', 'Menjalnik': 'avtomatski menjalnik', 'Motor': '120 KM'}, 'Audi A5 Sportback 2.0 TDI-130KW-S LINE-STR.OKNO-2X DIG.KLIMA-USNJE': {'1.registracija': '2012', 'Prevoženih': '218521 km', 'Gorivo': 'diesel motor', 'Menjalnik': 'ročni menjalnik', 'Motor': '177 KM'}, 'Toyota Auris 1.4 D4-D Luna': {'1.registracija': '2008', 'Prevoženih': '293700 km', 'Gorivo': 'diesel motor', 'Menjalnik': 'ročni menjalnik', 'Motor': '90 KM'}, 'Audi A3 2.0 TDI-S LINE-LEASING-2X LED+XEN-GR.SED-NAVI-PDC': {'1.registracija': '2013', 'Prevoženih': '200000 km', 'Gorivo': 'diesel motor', 'Menjalnik': 'ročni menjalnik', 'Motor': '150 KM'}, 'Jeep Compass 2.2 CRD 16v Limited 4x4': {'1.registracija': '2012', 'Gorivo': 'diesel motor', 'Menjalnik': 'ročni menjalnik', 'Motor': '163 KM'}, 'Peugeot 207 SPORT 1.4 16V 90': {'1.registracija': '2008', 'Prevoženih': '207129 km', 'Gorivo': 'bencinski motor', 'Menjalnik': 'ročni menjalnik', 'Motor': '88 KM'}, 'BMW serija 4 Gran Coupe: 418d Sport Line. M. 440i look 190Hp': {'1.registracija': '2015', 'Prevoženih': '159000 km', 'Gorivo': 'diesel motor', 'Menjalnik': 'ročni menjalnik', 'Motor': '150 KM'}, 'BMW serija 1: 118i XENON .ŠIBEDAH. NAVI': {'1.registracija': '2012', 'Prevoženih': '241000 km', 'Gorivo': 'bencinski motor', 'Menjalnik': 'ročni menjalnik', 'Motor': '170 KM'}, 'Ford Focus 1.6 Zetec SE 100 KM': {'1.registracija': '2005', 'Prevoženih': '210000 km', 'Gorivo': 'bencinski motor', 'Menjalnik': 'ročni menjalnik', 'Motor': '101 KM'}, 'Honda Civic 1.8': {'1.registracija': '2006', 'Prevoženih': '188000 km', 'Gorivo': 'bencinski motor', 'Menjalnik': 'ročni menjalnik', 'Motor': '140 KM'}, 'Peugeot 308 1.6 HDI Allure Edition 1.LASTNIK odlično ohranjen': {'1.registracija': '2012', 'Prevoženih': '225000 km', 'Gorivo': 'diesel motor', 'Menjalnik': 'ročni menjalnik', 'Motor': '92 KM'}, 'Audi A5 Cabriolet 2.0 TDI - BI-XENON -BANG OLUFSEN - TEMPOMAT - NAVI': {'1.registracija': '2012', 'Prevoženih': '219000 km', 'Gorivo': 'diesel motor', 'Menjalnik': 'ročni menjalnik', 'Motor': '177 KM'}, 'Fiat 500 1.2 S': {'1.registracija': '2017', 'Prevoženih': '88000 km', 'Gorivo': 'bencinski motor', 'Menjalnik': 'ročni menjalnik', 'Motor': '69 KM'}, 'Volkswagen Golf 2.0 GTI Performance DSG': {'1.registracija': '2017', 'Prevoženih': '139000 km', 'Gorivo': 'bencinski motor', 'Menjalnik': 'avtomatski menjalnik', 'Motor': '245 KM'}, 'Škoda Fabia 1.2 Happy-KOT NOVA-GARAŽIRANA': {'1.registracija': '2009', 'Prevoženih': '233000 km', 'Gorivo': 'bencinski motor', 'Menjalnik': 'ročni menjalnik', 'Motor': '60 KM'}, 'Renault Scenic TEHNIČNI 1 LETO ZIMSKE GUME': {'1.registracija': '2014', 'Prevoženih': '189000 km', 'Gorivo': 'diesel motor', 'Menjalnik': 'ročni menjalnik', 'Motor': '110 KM'}, 'Volkswagen Passat Variant 2.0 TDI BMT SCR Business avt. 110kW- Rline': {'1.registracija': '2022', 'Prevoženih': '42000 km', 'Gorivo': 'diesel motor', 'Menjalnik': 'avtomatski menjalnik', 'Motor': '150 KM'}, 'Opel Astra 1.4 16V TURBO SPORT-SLO-2.LASTNIK-BI-XENON-ALU-TEM': {'1.registracija': '2012', 'Prevoženih': '169000 km', 'Gorivo': 'bencinski motor', 'Menjalnik': 'ročni menjalnik', 'Motor': '140 KM'}, 'Audi A4 Avant 2.0 TDI 110  150': {'1.registracija': '2016', 'Prevoženih': '247000 km', 'Gorivo': 'diesel motor', 'Menjalnik': 'ročni menjalnik', 'Motor': '150 KM'}, 'Škoda Octavia 2.0 TDI Style DSG 110 kW': {'1.registracija': '2021', 'Prevoženih': '56000 km', 'Gorivo': 'diesel motor', 'Menjalnik': 'avtomatski menjalnik', 'Motor': '150 KM'}, 'Mercedes-Benz GLC coupe GLC 220 d 4MATIC kupe AMG-LINE.LED.NAVI.ALU.19': {'1.registracija': '2018', 'Prevoženih': '172340 km', 'Gorivo': 'diesel motor', 'Menjalnik': 'avtomatski menjalnik', 'Motor': '170 KM'}, 'Volkswagen Passat Variant 2.0 TDI Highline avt.190hp-LED-AMBIENT- KAMERA': {'1.registracija': '2019', 'Prevoženih': '140000 km', 'Gorivo': 'diesel motor', 'Menjalnik': 'avtomatski menjalnik', 'Motor': '190 KM'}, 'Volkswagen Touran 1.9 TDI avt. Highline 77  105': {'1.registracija': '2007', 'Prevoženih': '223000 km', 'Gorivo': 'diesel motor', 'Menjalnik': 'ročni menjalnik', 'Motor': '105 KM'}, 'Volkswagen Passat Variant 1.9 TDI 74 kW Highline': {'1.registracija': '2003', 'Gorivo': 'diesel motor', 'Menjalnik': 'ročni menjalnik', 'Motor': '101 KM'}, 'Dodge Journey SXT 2.0 CRD  6M T]': {'1.registracija': '2009', 'Prevoženih': '335000 km', 'Gorivo': 'diesel motor', 'Menjalnik': 'avtomatski menjalnik', 'Motor': '140 KM'}, 'Peugeot 308 1.2°PureTech°STYLE°1LAST°SLO°NA OBROKE-BREZPOLOGA°': {'1.registracija': '2015', 'Prevoženih': '109800 km', 'Gorivo': 'bencinski motor', 'Menjalnik': 'ročni menjalnik', 'Motor': '131 KM'}, 'Renault Zoe BOSE - LASTNIŠKA BATERIJA 52kw': {'1.registracija': '2021', 'Prevoženih': '45000 km', 'Gorivo': 'elektro pogon', 'Motor': '134 KM'}}\n"
     ]
    }
   ],
   "source": [
    "#s kodo v tem okvirčku bomo iz datoteke zadnjih_100.html izluščili podatke (ime, 1.registracija, prevoženih km, gorivo, menjalnik, motor)\n",
    "#in jih zapisali v slovar oblike {'ime avta':{'1. registracija': 2011, 'Prevoženih': '270000 km', 'Gorivo': 'bencinski motor', 'Menjalnik': 'avtomatski menjalnik', 'Moč motorja': '160 KM'}}\n",
    "#slovar sem izbral zato, ker so se določeni podatki v kodi dvakrat ponovili. Nekateri avti pa tudi nimajo podatka o npr. prevoženih kilometrih. Pri nekaterih električnih avtih\n",
    "#pa pride podatek tipa 'Baterija': '52 kw', ki ga v slovar nisem zapisal, moč motorja pa sem iz kW pretvoril v KM (1 kW = 1.341 KM) in zaokrožil na najbližje celo število.\n",
    "\n",
    "from bs4 import BeautifulSoup\n",
    "\n",
    "with open('zadnjih_100.html', 'r', encoding='utf-8') as f:\n",
    "    vsebina = f.read()\n",
    "    soup = BeautifulSoup(vsebina, 'html.parser')\n",
    "\n",
    "    #Pridelamo seznam z imeni vseh avtov (kot so ta zapisana na avto.net)\n",
    "\n",
    "    imena_avtov = []\n",
    "\n",
    "    #Ker imajo vsa imena avtov pred njimi značko <div class=\"GO-Results-Naziv ... to izkoristimo, da izluščimo imena ven\n",
    "    for element in soup.find_all(class_='GO-Results-Naziv'):\n",
    "        imena_avtov.append(element.text.strip())\n",
    "\n",
    "\n",
    "    #Sedaj pa pridelamo še en seznam, z vsemi drugimi podatki (hočem, da mi pri motorju pobere samo konjske moči)\n",
    "\n",
    "    drugi_podatki = []\n",
    "    for element in soup.find_all('td', class_='pl-3'):\n",
    "        drugi_podatki.append(element.text.strip())\n",
    "\n",
    "\n",
    "    #hočem, da mi pri motorju pobere samo konjske moči, morebiten podatek samo v kW mi pretvori v KM (1 kW = 1.341 KM) in zaokroži na najbližje celo število\n",
    "\n",
    "    for i in range(len(drugi_podatki)):\n",
    "        if '/' in drugi_podatki[i]:\n",
    "            drugi_podatki[i] = drugi_podatki[i][(-6):]\n",
    "        if drugi_podatki[i][0] == ' ':\n",
    "            drugi_podatki[i] = drugi_podatki[i][1:]\n",
    "   \n",
    "    for i in range(len(drugi_podatki)):\n",
    "        if drugi_podatki[i][(-2):] == 'kW':\n",
    "            drugi_podatki[i] = drugi_podatki[i][:(-2)]\n",
    "            drugi_podatki[i] = str(round(int(drugi_podatki[i]) * 1.341)) + ' KM'\n",
    "\n",
    "    #za vsako ime avta bo treba zgenerirat svoj vmesni slovar\n",
    "\n",
    "    def na_katerih_indeksih_se_nahaja(sez, a):\n",
    "        i = 0\n",
    "        sez_indeksov = []\n",
    "        for el in sez:\n",
    "            if el == a:\n",
    "                sez_indeksov.append(i)\n",
    "            i += 1\n",
    "        return sez_indeksov\n",
    "    \n",
    "    #koda za izdelavo slovarja\n",
    "    sez_indeksov = na_katerih_indeksih_se_nahaja(drugi_podatki, '1.registracija')\n",
    "    slovar = {}\n",
    "    vmesni_slovar = {}\n",
    "    seznam_kljucev = ['1.registracija', 'Prevoženih', 'Gorivo', 'Menjalnik', 'Motor']\n",
    "    i = 1\n",
    "    j = 0\n",
    "    for el in drugi_podatki:\n",
    "        if i in sez_indeksov: #natanko tedaj, ko naletimo na prvo registracijo, hočemo začet nov vmesni slovar\n",
    "            slovar[imena_avtov[j]] = vmesni_slovar\n",
    "            vmesni_slovar = {}\n",
    "            j += 1\n",
    "        if drugi_podatki[i - 1] in seznam_kljucev:\n",
    "            vmesni_slovar[drugi_podatki[i - 1]] = drugi_podatki[i]\n",
    "        i += 1\n",
    "            \n",
    "    print(slovar)"
   ]
  }
 ],
 "metadata": {
  "kernelspec": {
   "display_name": "Python 3",
   "language": "python",
   "name": "python3"
  },
  "language_info": {
   "codemirror_mode": {
    "name": "ipython",
    "version": 3
   },
   "file_extension": ".py",
   "mimetype": "text/x-python",
   "name": "python",
   "nbconvert_exporter": "python",
   "pygments_lexer": "ipython3",
   "version": "3.12.0"
  }
 },
 "nbformat": 4,
 "nbformat_minor": 2
}
