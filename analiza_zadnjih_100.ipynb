{
 "cells": [
  {
   "cell_type": "code",
   "execution_count": 69,
   "metadata": {},
   "outputs": [],
   "source": [
    "import funkcije"
   ]
  },
  {
   "cell_type": "markdown",
   "metadata": {},
   "source": [
    "# Analiza zadnjih 100 oglasov na portalu avto.net (dne 26.10.2023)\n",
    "\n",
    "Na portalu [avto.net](https://www.avto.net/) je posebna [stran](https://www.avto.net/Ads/results_100.asp?oglasrubrika=1&prodajalec=2), ki vsebuje zadnjih 100 objavljenih oglasov (stran se sproti spreminja).\n",
    "\n"
   ]
  },
  {
   "cell_type": "code",
   "execution_count": null,
   "metadata": {},
   "outputs": [],
   "source": [
    "#s kodo v tem okvirčku izluščimo html iz spletne podstrani, ki vsebuje zadnjih 100 oglasov\n",
    "import requests\n",
    "from bs4 import BeautifulSoup\n",
    "\n",
    "headers = {\n",
    "    'Accept': 'text/html, image/avif, image/webp, image/apng, image/svg+xml, */ *; q=0.8',\n",
    "    'Accept-Encoding': 'gzip, deflate, br',\n",
    "    'Accept-Language': 'en-US, en;q=0.9',\n",
    "    'Connection': 'keep-alive',\n",
    "    'Upgrade-Insecure-Requests': '1',\n",
    "    'Sec-Fetch-Dest': 'document',\n",
    "    'Sec-Fetch-Mode': 'navigate',\n",
    "    'Sec-Fetch-User': '?1',\n",
    "    'Sec-Fetch-Site': 'none',\n",
    "    'User-Agent': 'Mozilla/5.0 (Windows NT 10.0; Win64; x64) AppleWebKit/537.36 (KHTML, like Gecko) Chrome/110.0.0.0 Safari/537.36'\n",
    "}\n",
    "\n",
    "data_request = requests.get('https://www.avto.net/Ads/results_100.asp?', headers=headers)\n",
    "soup = BeautifulSoup(data_request.content, 'html.parser')\n",
    "vsebina_html = soup.prettify()\n",
    "with open(\"zadnjih_100.html\", \"w\", encoding='utf-8') as f:\n",
    "     print(vsebina_html, file=f)\n",
    "\n",
    "\n",
    "# print(data_request.status_code)"
   ]
  },
  {
   "cell_type": "code",
   "execution_count": 68,
   "metadata": {},
   "outputs": [
    {
     "name": "stdout",
     "output_type": "stream",
     "text": [
      "['7.990 €', '7.990 €', '2.600 €', '2.600 €', '7.980 €', '7.980 €', '1.300 €', '1.300 €', '17.490 €', '17.490 €', '16.800 €', '16.800 €', '26.300 €', '26.300 €', '34.900 €', '34.900 €', '8.690 €', '8.690 €', '9.900 €', '9.900 €', '12.500 €', '12.500 €', '21.999 €', '21.999 €', '2.450 €', '2.450 €', '550 €', '550 €', '9.799 €', '9.799 €', '5.850 €', '5.850 €', '35.000 €', '35.000 €', '12.999 €', '12.999 €', '8.699 €', '4.500 €', '4.500 €', '580 €', '580 €', 'AKCIJSKA CENA\\n          \\n\\n\\n\\n\\n\\n            13.990 €\\n           \\n\\n            13.690 €', 'AKCIJSKA CENA\\n          \\n\\n\\n\\n\\n\\n            13.990 €\\n           \\n\\n            13.690 €', '5.000 €', '5.000 €', '8.940 €', '8.940 €', '9.450 €', '9.450 €', '3.390 €\\n           \\n\\n\\n\\n\\n\\n\\n\\n\\n\\n            oz. 51,00 EUR / mesec (*)', '3.390 €\\n           \\n\\n\\n\\n\\n\\n\\n\\n\\n\\n            oz. 51,00 EUR / mesec (*)', '13.945 €', '13.945 €', '3.000 €', '3.000 €', '4.000 €', '4.000 €', '1.670 €\\n           \\n\\n\\n\\n\\n\\n\\n\\n\\n\\n            oz. 46,00 EUR / mesec (*)', '1.670 €\\n           \\n\\n\\n\\n\\n\\n\\n\\n\\n\\n            oz. 46,00 EUR / mesec (*)', '19.999 €', '19.999 €', '8.945 €', '8.945 €', '29.999 €', '29.999 €', '35.999 €\\n           \\n\\n            oz. 29.507 € + DDV(*)', '35.999 €\\n           \\n\\n            oz. 29.507 € + DDV(*)', '4.700 €', '4.700 €', '13.500 €', '13.500 €', '6.100 €', '6.100 €', '27.940 €', '27.940 €', '4.990 €', '4.990 €', '250 €', '250 €', '3.950 €', '3.950 €', '720 €', '720 €', '13.945 €', '13.945 €', '22.490 €', '22.490 €', '6.900 €', '6.900 €', '3.200 €', '3.200 €', '29.990 €', '29.990 €', '1.290 €', '1.290 €', '23.500 €', '23.500 €', '6.500 €', '6.500 €', '12.945 €', '12.945 €', '7.750 €', '7.750 €', '9.500 €', '9.500 €', '2.800 €', '2.800 €', '55.000 €', '55.000 €', '19.300 €', '19.300 €', '12.500 €', '12.500 €', '15.945 €', '15.945 €', '10.200 €', '10.200 €', '2.690 €', '2.690 €', '11.000 €', '11.000 €', '3.990 €', '3.990 €', '15.890 €', '15.890 €', '5.990 €', '5.990 €', '2.950 €', '2.950 €', '27.940 €', '27.940 €', '50.990 €', '50.990 €', '17.500 €', '17.500 €', '5.990 €', '5.990 €', '14.500 €', '14.500 €', '18.700 €', '18.700 €', '14.500 €', '14.500 €', '13.945 €', '13.945 €', '3.100 €', '3.100 €', '12.945 €', '12.945 €', '6.990 €', '6.990 €', '2.650 €', '2.650 €', '19.650 €', '19.650 €', '8.999 €', '8.999 €', '650 €', '650 €', '4.650 €', '4.650 €', '4.550 €', '4.550 €', '14.990 €', '14.990 €', '12.900 €', '12.900 €', '22.800 €', '22.800 €', '2.650 €', '2.650 €', '5.900 €', '5.900 €', '34.900 €', '34.900 €', '5.490 €', '5.490 €', '14.500 €', '14.500 €', '25.900 €', '25.900 €', '33.900 €', '33.900 €', '19.990 €', '19.990 €', '2.590 €', '2.590 €', '1.390 €', '1.390 €', '1.790 €', '1.790 €', '8.999 €', '8.999 €', '19.990 €', '19.990 €', '5.490 €\\n           \\n\\n\\n\\n\\n\\n\\n\\n\\n\\n            oz. 102,00 EUR / mesec (*)', '5.490 €\\n           \\n\\n\\n\\n\\n\\n\\n\\n\\n\\n            oz. 102,00 EUR / mesec (*)']\n"
     ]
    }
   ],
   "source": [
    "#s kodo v tem okvirčku bomo iz datoteke zadnjih_100.html izluščili podatke (ime, 1.registracija, prevoženih km, gorivo, menjalnik, motor, cena)\n",
    "\n",
    "\n",
    "from bs4 import BeautifulSoup\n",
    "\n",
    "with open('zadnjih_100.html', 'r', encoding='utf-8') as f:\n",
    "    vsebina = f.read()\n",
    "    soup = BeautifulSoup(vsebina, 'html.parser')\n",
    "\n",
    "#Pridelamo seznam z imeni vseh avtov (kot so ta zapisana na avto.net)\n",
    "\n",
    "imena_avtov = []\n",
    "\n",
    "#Ker imajo vsa imena avtov pred njimi značko <div class=\"GO-Results-Naziv ... to izkoristimo, da izluščimo imena ven\n",
    "for element in soup.find_all(class_='GO-Results-Naziv'):\n",
    "    imena_avtov.append(element.text.strip())\n",
    "\n",
    "\n",
    "#Sedaj pa pridelamo še en seznam, z vsemi drugimi podatki (hočem, da mi pri motorju pobere samo konjske moči)\n",
    "\n",
    "drugi_podatki = []\n",
    "for element in soup.find_all('td', class_='pl-3'):\n",
    "    drugi_podatki.append(element.text.strip())\n",
    "\n",
    "#drugi_podatki je seznam tipa ['1.registracija', '2011', 'Prevoženih', '270000 km', 'Gorivo', 'bencinski motor']...\n",
    "\n",
    "##hočem, da mi pri moči motorja pobere samo konjske moči,\n",
    "drugi_podatki = poberi_KM(drugi_podatki)\n",
    "\n",
    "#morebiten podatek samo v kW mi pretvori v KM (1 kW = 1.341 KM) in zaokroži na najbližje celo število\n",
    "drugi_podatki = pretvorjeno_v_KM(drugi_podatki)\n",
    "\n",
    "cene_avtov = []\n",
    "\n",
    "for element in soup.find_all(class_=['GO-Results-Price', 'GO-Results-Top-Price']):\n",
    "    cene_avtov.append(element.text.strip())\n",
    "\n",
    "#V kodi se cena za posamezen avto 2x ponovi (razen pri top ponudbi), zato uporabim funkcijo uredi_seznam, ki mi za vsak avto pusti samo eno ceno\n",
    "cene_avtov = uredi_seznam(cene_avtov)\n",
    "\n",
    "print(cene_avtov)\n",
    "cene_avtov = cene_avtov[::2] #vzamemo vsak drugi element, ker se vsaka cena dvakrat ponovi\n",
    "#top ponudba manjka cena\n",
    "# for i in range(len(cene_avtov)):\n",
    "#     print('AKCIJSKA CENA\\n' in cene_avtov[i])\n",
    "#     if 'AKCIJSKA CENA\\n' in cene_avtov[i]: #'AKCIJSKA CENA\\n          \\n\\n\\n\\n\\n\\n            13.990 €\\n           \\n\\n            13.690 €' --> hočemo samo ceno na koncu\n",
    "#         cene_avtov[i] = cene_avtov[i][(-10):]\n",
    "#         while cene_avtov[i][0] == ' ':\n",
    "#             cene_avtov[i] = cene_avtov[1:]\n",
    "# print(cene_avtov)\n",
    "\n"
   ]
  },
  {
   "cell_type": "code",
   "execution_count": null,
   "metadata": {},
   "outputs": [],
   "source": [
    "#Zapišemo slovar oblike {'ime avta':{'1. registracija': 2011, 'Prevoženih': '270000 km', 'Gorivo': 'bencinski motor', 'Menjalnik': 'avtomatski menjalnik', 'Moč motorja': '160 KM'}}\n",
    "#slovar sem izbral zato, ker so se določeni podatki v kodi dvakrat ponovili. Nekateri avti pa tudi nimajo podatka o npr. prevoženih kilometrih. Pri nekaterih električnih avtih\n",
    "#pa pride podatek tipa 'Baterija': '52 kw', ki ga v slovar nisem zapisal, moč motorja pa sem iz kW pretvoril v KM (1 kW = 1.341 KM) in zaokrožil na najbližje celo število.\n",
    "#električni avti imajo vedno avtomatski menjalnik, zato bom v slovar dodal tudi to (tudi če tega na avto.net eksplicitno ne piše)\n",
    "\n",
    "\n",
    "#za vsako ime avta bo treba zgenerirat svoj vmesni slovar\n",
    "\n",
    "#koda za izdelavo slovarja\n",
    "sez_indeksov = na_katerih_indeksih_se_nahaja(drugi_podatki, '1.registracija')\n",
    "slovar = {}\n",
    "vmesni_slovar = {}\n",
    "seznam_kljucev = ['1.registracija', 'Prevoženih', 'Gorivo', 'Menjalnik', 'Motor']\n",
    "i = 1\n",
    "j = 0\n",
    "for el in drugi_podatki:\n",
    "    if i in sez_indeksov: #natanko tedaj, ko naletimo na prvo registracijo, hočemo začet nov vmesni slovar\n",
    "        slovar[imena_avtov[j]] = vmesni_slovar\n",
    "        vmesni_slovar = {}\n",
    "        j += 1\n",
    "    if drugi_podatki[i - 1] in seznam_kljucev:\n",
    "        vmesni_slovar[drugi_podatki[i - 1]] = drugi_podatki[i]\n",
    "    i += 1\n",
    "\n",
    "#dodamo avtomatski menjalnik k avtom z električnim pogonom\n",
    "for vmesni_slovar in slovar.values():\n",
    "    if 'elektro pogon' in vmesni_slovar.values():\n",
    "        vmesni_slovar['Menjalnik'] = 'avtomatski menjalnik'\n",
    "        \n",
    "print(slovar)"
   ]
  },
  {
   "cell_type": "code",
   "execution_count": 59,
   "metadata": {},
   "outputs": [],
   "source": [
    "#Tu bomo iz slovarja napisali csv datoteko, ki jo bomo kasneje uporabili za analizo podatkov\n",
    "\n",
    "import csv\n",
    "with open('zadnjih_100.csv', 'w', newline='', encoding='utf-8') as g:\n",
    "    zapis = csv.writer(g)\n",
    "    \n",
    "    #Napišemo prvo vrstico\n",
    "    zapis.writerow(['Ime', '1.registracija', 'Prevoženih', 'Gorivo', 'Menjalnik', 'Motor'])\n",
    "    \n",
    "    #Zapišemo podatkev vse naslednje vrstice\n",
    "    for ime, podatki in slovar.items():\n",
    "        zapis.writerow([ime] + [podatki.get(kljuc, '') for kljuc in ['1.registracija', 'Prevoženih', 'Gorivo', 'Menjalnik', 'Motor']])\n",
    "\n"
   ]
  }
 ],
 "metadata": {
  "kernelspec": {
   "display_name": "Python 3",
   "language": "python",
   "name": "python3"
  },
  "language_info": {
   "codemirror_mode": {
    "name": "ipython",
    "version": 3
   },
   "file_extension": ".py",
   "mimetype": "text/x-python",
   "name": "python",
   "nbconvert_exporter": "python",
   "pygments_lexer": "ipython3",
   "version": "3.12.0"
  }
 },
 "nbformat": 4,
 "nbformat_minor": 2
}
