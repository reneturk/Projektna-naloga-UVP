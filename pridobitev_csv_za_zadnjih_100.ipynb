{
 "cells": [
  {
   "cell_type": "code",
   "execution_count": 1,
   "metadata": {},
   "outputs": [],
   "source": [
    "import funkcije\n",
    "from bs4 import BeautifulSoup"
   ]
  },
  {
   "cell_type": "markdown",
   "metadata": {},
   "source": [
    "# Pridobitev csv datoteke za zadnjih 100 oglasov na portalu avto.net (dne 26. 10. 2023)\n",
    "\n",
    "Na portalu [avto.net](https://www.avto.net/) je posebna [stran](https://www.avto.net/Ads/results_100.asp?oglasrubrika=1&prodajalec=2), ki vsebuje zadnjih 100 objavljenih oglasov (stran se sproti spreminja). V tem jupyter zvezku pridobim html kodo iz te podstrani, iz nje pridobim podatke, ki me zanimajo (ime avta, 1.registracija, število prevoženih kilometrov, gorivo, menjalnik, moč motorja in cena), te podatke shranim v slovar in na koncu naredim csv datoteko, ki jo kasneje uporabim za analizo.\n",
    "\n"
   ]
  },
  {
   "cell_type": "markdown",
   "metadata": {},
   "source": [
    "# 1. pridobivanje html kode\n",
    "Najprej pridobim html kodo iz spletne podstrani, in jo shranim v datoteko 'zadnjih_100.html'"
   ]
  },
  {
   "cell_type": "code",
   "execution_count": 3,
   "metadata": {},
   "outputs": [],
   "source": [
    "import requests\n",
    "\n",
    "#brez headers, sem dobival 403 error\n",
    "headers = {\n",
    "    'Accept': 'text/html, image/avif, image/webp, image/apng, image/svg+xml, */ *; q=0.8',\n",
    "    'Accept-Encoding': 'gzip, deflate, br',\n",
    "    'Accept-Language': 'en-US, en;q=0.9',\n",
    "    'Connection': 'keep-alive',\n",
    "    'Upgrade-Insecure-Requests': '1',\n",
    "    'Sec-Fetch-Dest': 'document',\n",
    "    'Sec-Fetch-Mode': 'navigate',\n",
    "    'Sec-Fetch-User': '?1',\n",
    "    'Sec-Fetch-Site': 'none',\n",
    "    'User-Agent': 'Mozilla/5.0 (Windows NT 10.0; Win64; x64) AppleWebKit/537.36 (KHTML, like Gecko) Chrome/110.0.0.0 Safari/537.36'\n",
    "} \n",
    "\n",
    "data_request = requests.get('https://www.avto.net/Ads/results_100.asp?', headers=headers)\n",
    "soup = BeautifulSoup(data_request.content, 'html.parser')\n",
    "vsebina_html = soup.prettify()\n",
    "with open(\"zadnjih_100.html\", \"w\", encoding='utf-8') as f:\n",
    "     print(vsebina_html, file=f)"
   ]
  },
  {
   "cell_type": "markdown",
   "metadata": {},
   "source": [
    "# 2. Izluščanje podatkov iz html hode\n",
    "Iz html kode za vsak avto izluščimo naslednje podatke: ime, leto prve registracije, število prevoženih km, gorivo, tip menjalnika, moč motorja in cena. Ceno in ime avta dodamo v svoj seznam, medtem ko druge podatke shranimo vse skupaj v en seznam (zaradi tipa zapisa podatkov v html kodi)."
   ]
  },
  {
   "cell_type": "code",
   "execution_count": 2,
   "metadata": {},
   "outputs": [],
   "source": [
    "with open('zadnjih_100.html', 'r', encoding='utf-8') as f:\n",
    "    vsebina = f.read()\n",
    "    soup = BeautifulSoup(vsebina, 'html.parser')\n",
    "\n",
    "#Pridelamo seznam z imeni vseh avtov (kot so ta zapisana na avto.net)\n",
    "imena_avtov = []\n",
    "\n",
    "#Ker imajo vsa imena avtov pred njimi značko <div class=\"GO-Results-Naziv ... to izkoristimo, da izluščimo imena ven\n",
    "for element in soup.find_all(class_='GO-Results-Naziv'):\n",
    "    imena_avtov.append(element.text.strip())\n",
    "\n",
    "#Sedaj pa pridelamo še en seznam, z vsemi drugimi podatki (hočem, da mi pri motorju pobere samo konjske moči)\n",
    "drugi_podatki = []\n",
    "for element in soup.find_all('td', class_='pl-3'):\n",
    "    drugi_podatki.append(element.text.strip())\n",
    "#drugi_podatki je seznam tipa ['1.registracija', '2011', 'Prevoženih', '270000 km', 'Gorivo', 'bencinski motor']...\n",
    "\n",
    "#hočem, da mi pri moči motorja pobere samo konjske moči,\n",
    "drugi_podatki = funkcije.poberi_km(drugi_podatki)\n",
    "\n",
    "#morebiten podatek samo v kW mi pretvori v KM (1 kW = 1.341 KM) in zaokroži na najbližje celo število\n",
    "drugi_podatki = funkcije.pretvorjeno_v_km(drugi_podatki)\n",
    "\n",
    "#Sedaj pa še cene avtov\n",
    "cene_avtov = []\n",
    "\n",
    "for element in soup.find_all(class_=['GO-Results-Price', 'GO-Results-Top-Price']):\n",
    "    cene_avtov.append(element.text.strip())\n",
    "\n",
    "#V kodi se cena za posamezen avto 2x ponovi (razen pri top ponudbi), zato uporabim funkcijo uredi_seznam, ki mi za vsak avto pusti samo eno ceno\n",
    "cene_avtov = funkcije.uredi_seznam(cene_avtov)\n",
    "\n",
    "\n",
    "#sedaj moramo v seznamu cene_avtov rešiti tip 'AKCIJSKA CENA\\n          \\n\\n\\n\\n\\n\\n            13.990 €\\n           \\n\\n            13.690 €' in \n",
    "#                                              '3.390 €\\n           \\n\\n\\n\\n\\n\\n\\n\\n\\n\\n            oz. 51,00 EUR / mesec (*)'\n",
    "#                                               '35.999 €\\n           \\n\\n            oz. 29.507 € + DDV(*)'\n",
    "\n",
    "cene_avtov = funkcije.poenostavi(cene_avtov)\n",
    "cene_avtov = funkcije.odstrani_cene(cene_avtov)\n",
    "drugi_podatki = funkcije.odstrani_enote(drugi_podatki)"
   ]
  },
  {
   "cell_type": "markdown",
   "metadata": {},
   "source": [
    "# 3. Izdelava slovarja\n",
    "Izdelamo slovar tipa {'ime avta':{'1. registracija': 2011, 'Prevoženih': '270000 km', 'Gorivo': 'bencinski motor', 'Menjalnik': 'avtomatski menjalnik', 'Moč motorja': '160 KM'}}. Slovar sem izbral zato, ker so se določeni podatki v kodi dvakrat ponovili. Nekateri avti pa tudi nimajo podatka o npr. prevoženih kilometrih. Če je bil prisoten kakšen drugi podatek (npr. pri električnih avtih 'Baterija': '52 kW'), ga v slovar nisem dodal."
   ]
  },
  {
   "cell_type": "code",
   "execution_count": 3,
   "metadata": {},
   "outputs": [
    {
     "name": "stdout",
     "output_type": "stream",
     "text": [
      "{'Volkswagen Passat CC 1.8 TSI avt.': {'1.registracija': '2011', 'Prevoženih': '270000', 'Gorivo': 'bencinski motor', 'Menjalnik': 'avtomatski menjalnik', 'Motor': '160', 'Cena': '7990'}, 'Kia Ceed': {'1.registracija': '2008', 'Prevoženih': '200000', 'Gorivo': 'bencinski motor', 'Menjalnik': 'ročni menjalnik', 'Motor': '109', 'Cena': '2600'}, 'Opel Insignia 2.0 CDTI EDITION VELIKA NAVI-PDC-TEMP.-ALU-XENON-': {'1.registracija': '2015', 'Prevoženih': '241031', 'Gorivo': 'diesel motor', 'Menjalnik': 'ročni menjalnik', 'Motor': '163', 'Cena': '7980'}, 'Renault Clio Rip Curl2 1.2 16v 3V': {'1.registracija': '2008', 'Prevoženih': '263000', 'Gorivo': 'bencinski motor', 'Menjalnik': 'ročni menjalnik', 'Motor': '75', 'Cena': '1300'}, 'Opel Grandland X 1.5 DIESEL 130 Elite - BOGATO OPREMLJEN': {'1.registracija': '2020', 'Prevoženih': '140000', 'Gorivo': 'diesel motor', 'Menjalnik': 'ročni menjalnik', 'Motor': '131', 'Cena': '17490'}, 'Audi A4 Avant 2.0 TDI S tronic 110  150': {'1.registracija': '2016', 'Prevoženih': '270000', 'Gorivo': 'diesel motor', 'Menjalnik': 'avtomatski menjalnik', 'Motor': '150', 'Cena': '16800'}, 'BMW serija 4 Gran Coupe: 420i Sport Line KOT NOV. MOŽNOST MENJAVA. UGODNO': {'1.registracija': '2018', 'Prevoženih': '125000', 'Gorivo': 'bencinski motor', 'Menjalnik': 'ročni menjalnik', 'Motor': '184', 'Cena': '26300'}, 'Mercedes-Benz GLC-Razred GLC 220 d 4MATIC AMG': {'1.registracija': '2018', 'Prevoženih': '60000', 'Gorivo': 'diesel motor', 'Menjalnik': 'avtomatski menjalnik', 'Motor': '170', 'Cena': '34900'}, 'Citroen C4 Grand Picasso Seduction BlueHDi 150 2.0-AVT-NAVI-PDC-LEASING': {'1.registracija': '2015', 'Prevoženih': '251000', 'Gorivo': 'diesel motor', 'Menjalnik': 'avtomatski menjalnik', 'Motor': '150', 'Cena': '8690'}, 'BMW serija X5: xDrive35d-BI-XENON-NAVI-PDC-SERVISNA KNJ': {'1.registracija': '2010', 'Prevoženih': '329000', 'Gorivo': 'diesel motor', 'Menjalnik': 'avtomatski menjalnik', 'Motor': '286', 'Cena': '9900'}, 'Škoda Fabia Style Combi 1.0 TSI 81kW': {'1.registracija': '2017', 'Prevoženih': '90000', 'Gorivo': 'bencinski motor', 'Menjalnik': 'ročni menjalnik', 'Motor': '110', 'Cena': '12500'}, 'Volvo XC60 D3 Momentum': {'1.registracija': '2018', 'Prevoženih': '214000', 'Gorivo': 'diesel motor', 'Menjalnik': 'ročni menjalnik', 'Motor': '150', 'Cena': '21999'}, 'Volkswagen Polo': {'1.registracija': '2005', 'Prevoženih': '215000', 'Gorivo': 'diesel motor', 'Menjalnik': 'ročni menjalnik', 'Motor': '101', 'Cena': '2450'}, 'Proton serija 400: persona 416 GLXi': {'1.registracija': '1996', 'Prevoženih': '216000', 'Gorivo': 'bencinski motor', 'Menjalnik': 'ročni menjalnik', 'Motor': '113', 'Cena': '550'}, 'Volkswagen Golf 1.6 TDI BMT 40 let XENON': {'1.registracija': '2014', 'Prevoženih': '204000', 'Gorivo': 'diesel motor', 'Menjalnik': 'ročni menjalnik', 'Motor': '105', 'Cena': '9799'}, 'Volkswagen Golf 1.6 TDI BlueMotion Tech Comfort.77kW': {'1.registracija': '2012', 'Prevoženih': '227800', 'Gorivo': 'diesel motor', 'Menjalnik': 'ročni menjalnik', 'Motor': '105', 'Cena': '5850'}, 'Mercedes-Benz E-Razred E 200': {'1.registracija': '2019', 'Prevoženih': '70000', 'Gorivo': 'bencinski motor', 'Menjalnik': 'avtomatski menjalnik', 'Motor': '184', 'Cena': '35000'}, 'Audi A6 3.0 TDI quattro S-TRONIC-NAVI-PDC-TEMP': {'1.registracija': '2013', 'Prevoženih': '265000', 'Gorivo': 'diesel motor', 'Menjalnik': 'avtomatski menjalnik', 'Motor': '204', 'Cena': '12999'}, 'Renault Clio °°Life 1.2 16v°°1LAST°°SLO°°94000KM°°SAMO Z OSEBNO': {'1.registracija': '2017', 'Prevoženih': '9300', 'Gorivo': 'bencinski motor', 'Menjalnik': 'ročni menjalnik', 'Motor': '75', 'Cena': '8699'}, 'Volkswagen Passat 3.2 FSI 4M R 32 4 MOTION DSG': {'1.registracija': '2010', 'Prevoženih': '217900', 'Gorivo': 'bencinski motor', 'Menjalnik': 'avtomatski menjalnik', 'Motor': '250', 'Cena': '4500'}, 'Seat Ibiza Fresc STELLA 1.4 16V 75': {'1.registracija': '2004', 'Prevoženih': '210000', 'Gorivo': 'bencinski motor', 'Menjalnik': 'ročni menjalnik', 'Motor': '75', 'Cena': '580'}, 'Suzuki Ignis 1.2 VVT 4x4 SAMO 79.900KM-VRHUNSKI-ALU-GRE.SEDEŽEV': {'1.registracija': '2018', 'Prevoženih': '79900', 'Gorivo': 'bencinski motor', 'Menjalnik': 'ročni menjalnik', 'Motor': '90', 'Cena': '13690'}, 'Seat Leon 1.2 TSI': {'1.registracija': '2012', 'Prevoženih': '239700', 'Gorivo': 'bencinski motor', 'Menjalnik': 'ročni menjalnik', 'Motor': '105', 'Cena': '5000'}, 'Volkswagen Golf 2.0 TDI-LEASING-HIGHLINE-TEMPO-MULTI VOLAN-': {'1.registracija': '2012', 'Prevoženih': '200000', 'Gorivo': 'diesel motor', 'Menjalnik': 'ročni menjalnik', 'Motor': '140', 'Cena': '8940'}, 'Audi TT ROADSTER 2.0 TFSI NAVI-USNJE-PDC-TEMPOMAT-MENJAVA': {'1.registracija': '2007', 'Prevoženih': '151000', 'Gorivo': 'bencinski motor', 'Menjalnik': 'ročni menjalnik', 'Motor': '200', 'Cena': '9450'}, 'Renault Megane 1.9 dCi - Financiranje brez pologa': {'1.registracija': '2010', 'Prevoženih': '270000', 'Gorivo': 'diesel motor', 'Menjalnik': 'ročni menjalnik', 'Motor': '131', 'Cena': '3390'}, 'BMW serija X3: xDrive20d-135KW-AUT-VELIKA NAVI-KAMERA-USNJE-XENON': {'1.registracija': '2012', 'Prevoženih': '200000', 'Gorivo': 'diesel motor', 'Menjalnik': 'avtomatski menjalnik', 'Motor': '184', 'Cena': '13945'}, 'Kia Pro_Ceed 1.4 CVVT   80 kW LX FRESH': {'1.registracija': '2009', 'Prevoženih': '168150', 'Gorivo': 'bencinski motor', 'Menjalnik': 'ročni menjalnik', 'Motor': '109', 'Cena': '3000'}, 'Mercedes-Benz C-Razred C 200 Kopmpressor': {'1.registracija': '2009', 'Prevoženih': '298288', 'Gorivo': 'bencinski motor', 'Menjalnik': 'ročni menjalnik', 'Motor': '184', 'Cena': '4000'}, 'Renault Megane 1.5DCI 85 ELAN': {'1.registracija': '2008', 'Prevoženih': '252000', 'Gorivo': 'diesel motor', 'Menjalnik': 'ročni menjalnik', 'Motor': '86', 'Cena': '1670'}, 'BMW serija X1: X1 xDrive20d-M PAKET-4X4-HARMAN KARDON-PANORAMA': {'1.registracija': '2018', 'Prevoženih': '199900', 'Gorivo': 'diesel motor', 'Menjalnik': 'ročni menjalnik', 'Motor': '190', 'Cena': '19999'}, 'Volkswagen Passat Variant 2.0 TDI-LEASING ZA TUJCE-NAVI-TEMPOMAT-GR.SED-PDC': {'1.registracija': '2012', 'Prevoženih': '194785', 'Gorivo': 'diesel motor', 'Menjalnik': 'ročni menjalnik', 'Motor': '140', 'Cena': '8945'}, 'Volkswagen Tiguan 2.0 TDi DSG7 Elegance - SLO - le 29.170 km': {'1.registracija': '2021', 'Prevoženih': '29170', 'Gorivo': 'diesel motor', 'Menjalnik': 'avtomatski menjalnik', 'Motor': '150', 'Cena': '29999'}, 'BMW serija 3 Touring: 320d M Sport': {'1.registracija': '2020', 'Prevoženih': '93699', 'Gorivo': 'diesel motor', 'Menjalnik': 'avtomatski menjalnik', 'Motor': '190', 'Cena': '35999'}, 'Volkswagen Golf': {'1.registracija': '2010', 'Prevoženih': '278000', 'Gorivo': 'diesel motor', 'Menjalnik': 'ročni menjalnik', 'Motor': '105', 'Cena': '4700'}, 'Toyota Yaris 1.5 VVT-iE Mienium 20 let Yaris. Kamera -navi...': {'1.registracija': '2019', 'Prevoženih': '73000', 'Gorivo': 'bencinski motor', 'Menjalnik': 'ročni menjalnik', 'Motor': '111', 'Cena': '13500'}, 'Renault Megane Expression dCi 90': {'1.registracija': '2013', 'Prevoženih': '167139', 'Gorivo': 'diesel motor', 'Menjalnik': 'ročni menjalnik', 'Motor': '90', 'Cena': '6100'}, 'Audi A7 3.0 TDI-S LINE-ZRAČNO-MATRIX-STR.OKNO-KAMERA-USNJE': {'1.registracija': '2015', 'Prevoženih': '179582', 'Gorivo': 'diesel motor', 'Menjalnik': 'avtomatski menjalnik', 'Motor': '272', 'Cena': '27940'}, 'Citroen C3 Attraction HDi 70 BVM': {'1.registracija': '2014', 'Prevoženih': '159000', 'Gorivo': 'diesel motor', 'Menjalnik': 'ročni menjalnik', 'Motor': '68', 'Cena': '4990'}, 'Audi A4 Avant 1.8i KLIMATRONIK 92kw LES PRIKLOP': {'1.registracija': '1998', 'Prevoženih': '233000', 'Gorivo': 'bencinski motor', 'Menjalnik': 'ročni menjalnik', 'Motor': '125', 'Cena': '250'}, 'Ford S-Max TREND 1.8 TDCi  125KM': {'1.registracija': '2010', 'Prevoženih': '305888', 'Gorivo': 'diesel motor', 'Menjalnik': 'ročni menjalnik', 'Motor': '125', 'Cena': '3950'}, 'Renault Twingo 1.2': {'1.registracija': '1999', 'Prevoženih': '168000', 'Gorivo': 'bencinski motor', 'Menjalnik': 'ročni menjalnik', 'Motor': '58', 'Cena': '720'}, 'BMW serija 5: 525d-AUT-XDRIVE-4X4-VELIKA NAVI-KAMERA-USNJE-2XPDC': {'1.registracija': '2013', 'Prevoženih': '237856', 'Gorivo': 'diesel motor', 'Menjalnik': 'avtomatski menjalnik', 'Motor': '218', 'Cena': '13945'}, 'Audi A4 2.0 TDI quattro S tronic Sport 140kW MATRIX ALU19': {'1.registracija': '2017', 'Prevoženih': '179000', 'Gorivo': 'diesel motor', 'Menjalnik': 'avtomatski menjalnik', 'Motor': '190', 'Cena': '22490'}, 'Opel Corsa 1.4 16V…AVTOMATIK…43.000km': {'1.registracija': '2012', 'Prevoženih': '43000', 'Gorivo': 'bencinski motor', 'Menjalnik': 'avtomatski menjalnik', 'Motor': '101', 'Cena': '6900'}, 'Renault Espace 2.0 dCi 150 Initiale': {'1.registracija': '2010', 'Prevoženih': '276000', 'Gorivo': 'diesel motor', 'Menjalnik': 'ročni menjalnik', 'Motor': '150', 'Cena': '3200'}, 'Volkswagen Tiguan Allspace 2.0TDI 4M  R-Line-FULL LED-ACC-NAVI-KAM-VL. KLUKA': {'1.registracija': '2020', 'Prevoženih': '146500', 'Gorivo': 'diesel motor', 'Menjalnik': 'avtomatski menjalnik', 'Motor': '190', 'Cena': '29990'}, 'Kia Picanto 1.0 LX SPORT ABS AC SLOVENSKA. 2.LASTNICA': {'1.registracija': '2005', 'Prevoženih': '158000', 'Gorivo': 'bencinski motor', 'Menjalnik': 'ročni menjalnik', 'Motor': '63', 'Cena': '1290'}, 'Audi A7 3.0 TDI quattro S tronic 180  245': {'1.registracija': '2014', 'Prevoženih': '270000', 'Gorivo': 'diesel motor', 'Menjalnik': 'avtomatski menjalnik', 'Motor': '245', 'Cena': '23500'}, 'Opel Zafira 2.0 CDTI 121KW COSMO AUTO- 7 SEDEŽEV': {'1.registracija': '2014', 'Prevoženih': '340000', 'Gorivo': 'diesel motor', 'Menjalnik': 'avtomatski menjalnik', 'Motor': '165', 'Cena': '6500'}, 'Mercedes-Benz C-Razred C 220 CDI-125KW-LEASING-XENON-GR.SEDEŽEV-NAVI-': {'1.registracija': '2013', 'Prevoženih': '233856', 'Gorivo': 'diesel motor', 'Menjalnik': 'ročni menjalnik', 'Motor': '170', 'Cena': '12945'}, 'Citroen C3 Picasso VTi 120 - SAMO 60000 KM - ODLIČNO OHRANJEN -': {'1.registracija': '2013', 'Prevoženih': '60000', 'Gorivo': 'bencinski motor', 'Menjalnik': 'ročni menjalnik', 'Motor': '120', 'Cena': '7750'}, 'Volkswagen Passat Variant 2.0 TDI BlueM.Tech. Highline avt. 103kW': {'1.registracija': '2011', 'Prevoženih': '355000', 'Gorivo': 'diesel motor', 'Menjalnik': 'avtomatski menjalnik', 'Motor': '140', 'Cena': '9500'}, 'Fiat Bravo 1.4 T-Jet 16v 120 Emotion': {'1.registracija': '2009', 'Prevoženih': '191500', 'Gorivo': 'bencinski motor', 'Menjalnik': 'ročni menjalnik', 'Motor': '120', 'Cena': '2800'}, 'Volkswagen Multivan BENCIN 2.0 TSI BULLI EDITION': {'1.registracija': '2023', 'Prevoženih': '13700', 'Gorivo': 'bencinski motor', 'Menjalnik': 'avtomatski menjalnik', 'Motor': '204', 'Cena': '55000'}, 'Suzuki SX4 S-Cross 1.4 BOOSTERJET ELEGANCE TOP 4WD AUTO': {'1.registracija': '2019', 'Prevoženih': '51100', 'Gorivo': 'bencinski motor', 'Menjalnik': 'avtomatski menjalnik', 'Motor': '140', 'Cena': '19300'}, 'Škoda Octavia 2.0 TDI Style 110 kW': {'1.registracija': '2016', 'Prevoženih': '198000', 'Gorivo': 'diesel motor', 'Menjalnik': 'ročni menjalnik', 'Motor': '150', 'Cena': '12500'}, 'Mercedes-Benz E-Razred E 220CDI-AUT-AVANTGARDE-GR+EL.SEDEŽEV-NAVI-2XPD': {'1.registracija': '2014', 'Prevoženih': '236854', 'Gorivo': 'diesel motor', 'Menjalnik': 'avtomatski menjalnik', 'Motor': '170', 'Cena': '15945'}, 'Hyundai i20 1.2 CVVT COMFORT': {'1.registracija': '2018', 'Prevoženih': '58000', 'Gorivo': 'bencinski motor', 'Menjalnik': 'ročni menjalnik', 'Motor': '84', 'Cena': '10200'}, 'Ford Fusion 1.6l  100KM': {'1.registracija': '2006', 'Prevoženih': '153000', 'Gorivo': 'bencinski motor', 'Menjalnik': 'ročni menjalnik', 'Motor': '101', 'Cena': '2690'}, 'Audi Q5 2.0 TDI DPF quattro 125kW S tronic': {'1.registracija': '2011', 'Prevoženih': '259000', 'Gorivo': 'diesel motor', 'Menjalnik': 'avtomatski menjalnik', 'Motor': '170', 'Cena': '11000'}, 'Mercedes-Benz CLK-Razred CLK 270 CDI AVANTGARDE': {'1.registracija': '2004', 'Prevoženih': '409000', 'Gorivo': 'diesel motor', 'Menjalnik': 'avtomatski menjalnik', 'Motor': '170', 'Cena': '3990'}, 'Renault Megane Blue dCi 115 FAP INTENS EDC': {'1.registracija': '2020', 'Prevoženih': '33000', 'Gorivo': 'diesel motor', 'Menjalnik': 'avtomatski menjalnik', 'Motor': '116', 'Cena': '15890'}, 'Peugeot 5008 1.6 HDI 110 FAP 1.LASTNIK-SLO-150.000km': {'1.registracija': '2012', 'Prevoženih': '150000', 'Gorivo': 'diesel motor', 'Menjalnik': 'ročni menjalnik', 'Motor': '111', 'Cena': '5990'}, 'Volkswagen Passat 2.0 TDI+LIMO+TEMPOMAT+MULTI.VOLAN+ALU+RADIO CD': {'1.registracija': '2005', 'Prevoženih': '302739', 'Gorivo': 'diesel motor', 'Menjalnik': 'ročni menjalnik', 'Motor': '122', 'Cena': '2950'}, 'BMW serija X2: xDrive20d ... M SPORT X': {'1.registracija': '2019', 'Prevoženih': '87910', 'Gorivo': 'diesel motor', 'Menjalnik': 'avtomatski menjalnik', 'Motor': '190', 'Cena': '27940'}, 'Audi SQ7 4.0TDI|quattro|7SEDEZEV|MATRIX|KAMERA|ZRACNO|ACC': {'1.registracija': '2017', 'Prevoženih': '153000', 'Gorivo': 'diesel motor', 'Menjalnik': 'avtomatski menjalnik', 'Motor': '435', 'Cena': '50990'}, 'Mercedes-Benz C-Razred W205': {'1.registracija': '2000', 'Prevoženih': '165000', 'Gorivo': 'bencinski motor', 'Menjalnik': 'ročni menjalnik', 'Motor': '156', 'Cena': '17500'}, 'Volkswagen Golf 2.0 FSI turbo GTI-XENON-TEMPOMAT-17COL-KREDIT...': {'1.registracija': '2007', 'Prevoženih': '273000', 'Gorivo': 'bencinski motor', 'Menjalnik': 'ročni menjalnik', 'Motor': '200', 'Cena': '5990'}, 'Volkswagen Touran 2.0 TDI SCR avt. Highline 110  150': {'1.registracija': '2016', 'Prevoženih': '228000', 'Gorivo': 'diesel motor', 'Menjalnik': 'avtomatski menjalnik', 'Motor': '150', 'Cena': '14500'}, 'Volkswagen Golf 2.0 TDI R-Line Edition 110  150': {'1.registracija': '2018', 'Prevoženih': '150000', 'Gorivo': 'diesel motor', 'Menjalnik': 'ročni menjalnik', 'Motor': '150', 'Cena': '18700'}, 'Škoda Superb 1.6 TDI Ambition Combi 88 kW': {'1.registracija': '2017', 'Prevoženih': '242500', 'Gorivo': 'diesel motor', 'Menjalnik': 'avtomatski menjalnik', 'Motor': '120', 'Cena': '14500'}, 'Audi A5 Sportback 2.0 TDI-130KW-S LINE-STR.OKNO-2X DIG.KLIMA-USNJE': {'1.registracija': '2012', 'Prevoženih': '218521', 'Gorivo': 'diesel motor', 'Menjalnik': 'ročni menjalnik', 'Motor': '177', 'Cena': '13945'}, 'Toyota Auris 1.4 D4-D Luna': {'1.registracija': '2008', 'Prevoženih': '293700', 'Gorivo': 'diesel motor', 'Menjalnik': 'ročni menjalnik', 'Motor': '90', 'Cena': '3100'}, 'Audi A3 2.0 TDI-S LINE-LEASING-2X LED+XEN-GR.SED-NAVI-PDC': {'1.registracija': '2013', 'Prevoženih': '200000', 'Gorivo': 'diesel motor', 'Menjalnik': 'ročni menjalnik', 'Motor': '150', 'Cena': '12945'}, 'Jeep Compass 2.2 CRD 16v Limited 4x4': {'1.registracija': '2012', 'Gorivo': 'diesel motor', 'Menjalnik': 'ročni menjalnik', 'Motor': '163', 'Cena': '6990'}, 'Peugeot 207 SPORT 1.4 16V 90': {'1.registracija': '2008', 'Prevoženih': '207129', 'Gorivo': 'bencinski motor', 'Menjalnik': 'ročni menjalnik', 'Motor': '88', 'Cena': '2650'}, 'BMW serija 4 Gran Coupe: 418d Sport Line. M. 440i look 190Hp': {'1.registracija': '2015', 'Prevoženih': '159000', 'Gorivo': 'diesel motor', 'Menjalnik': 'ročni menjalnik', 'Motor': '150', 'Cena': '19650'}, 'BMW serija 1: 118i XENON .ŠIBEDAH. NAVI': {'1.registracija': '2012', 'Prevoženih': '241000', 'Gorivo': 'bencinski motor', 'Menjalnik': 'ročni menjalnik', 'Motor': '170', 'Cena': '8999'}, 'Ford Focus 1.6 Zetec SE 100 KM': {'1.registracija': '2005', 'Prevoženih': '210000', 'Gorivo': 'bencinski motor', 'Menjalnik': 'ročni menjalnik', 'Motor': '101', 'Cena': '650'}, 'Honda Civic 1.8': {'1.registracija': '2006', 'Prevoženih': '188000', 'Gorivo': 'bencinski motor', 'Menjalnik': 'ročni menjalnik', 'Motor': '140', 'Cena': '4650'}, 'Peugeot 308 1.6 HDI Allure Edition 1.LASTNIK odlično ohranjen': {'1.registracija': '2012', 'Prevoženih': '225000', 'Gorivo': 'diesel motor', 'Menjalnik': 'ročni menjalnik', 'Motor': '92', 'Cena': '4550'}, 'Audi A5 Cabriolet 2.0 TDI - BI-XENON -BANG OLUFSEN - TEMPOMAT - NAVI': {'1.registracija': '2012', 'Prevoženih': '219000', 'Gorivo': 'diesel motor', 'Menjalnik': 'ročni menjalnik', 'Motor': '177', 'Cena': '14990'}, 'Fiat 500 1.2 S': {'1.registracija': '2017', 'Prevoženih': '88000', 'Gorivo': 'bencinski motor', 'Menjalnik': 'ročni menjalnik', 'Motor': '69', 'Cena': '12900'}, 'Volkswagen Golf 2.0 GTI Performance DSG': {'1.registracija': '2017', 'Prevoženih': '139000', 'Gorivo': 'bencinski motor', 'Menjalnik': 'avtomatski menjalnik', 'Motor': '245', 'Cena': '22800'}, 'Škoda Fabia 1.2 Happy-KOT NOVA-GARAŽIRANA': {'1.registracija': '2009', 'Prevoženih': '233000', 'Gorivo': 'bencinski motor', 'Menjalnik': 'ročni menjalnik', 'Motor': '60', 'Cena': '2650'}, 'Renault Scenic TEHNIČNI 1 LETO ZIMSKE GUME': {'1.registracija': '2014', 'Prevoženih': '189000', 'Gorivo': 'diesel motor', 'Menjalnik': 'ročni menjalnik', 'Motor': '110', 'Cena': '5900'}, 'Volkswagen Passat Variant 2.0 TDI BMT SCR Business avt. 110kW- Rline': {'1.registracija': '2022', 'Prevoženih': '42000', 'Gorivo': 'diesel motor', 'Menjalnik': 'avtomatski menjalnik', 'Motor': '150', 'Cena': '34900'}, 'Opel Astra 1.4 16V TURBO SPORT-SLO-2.LASTNIK-BI-XENON-ALU-TEM': {'1.registracija': '2012', 'Prevoženih': '169000', 'Gorivo': 'bencinski motor', 'Menjalnik': 'ročni menjalnik', 'Motor': '140', 'Cena': '5490'}, 'Audi A4 Avant 2.0 TDI 110  150': {'1.registracija': '2016', 'Prevoženih': '247000', 'Gorivo': 'diesel motor', 'Menjalnik': 'ročni menjalnik', 'Motor': '150', 'Cena': '14500'}, 'Škoda Octavia 2.0 TDI Style DSG 110 kW': {'1.registracija': '2021', 'Prevoženih': '56000', 'Gorivo': 'diesel motor', 'Menjalnik': 'avtomatski menjalnik', 'Motor': '150', 'Cena': '25900'}, 'Mercedes-Benz GLC coupe GLC 220 d 4MATIC kupe AMG-LINE.LED.NAVI.ALU.19': {'1.registracija': '2018', 'Prevoženih': '172340', 'Gorivo': 'diesel motor', 'Menjalnik': 'avtomatski menjalnik', 'Motor': '170', 'Cena': '33900'}, 'Volkswagen Passat Variant 2.0 TDI Highline avt.190hp-LED-AMBIENT- KAMERA': {'1.registracija': '2019', 'Prevoženih': '140000', 'Gorivo': 'diesel motor', 'Menjalnik': 'avtomatski menjalnik', 'Motor': '190', 'Cena': '19990'}, 'Volkswagen Touran 1.9 TDI avt. Highline 77  105': {'1.registracija': '2007', 'Prevoženih': '223000', 'Gorivo': 'diesel motor', 'Menjalnik': 'ročni menjalnik', 'Motor': '105', 'Cena': '2590'}, 'Volkswagen Passat Variant 1.9 TDI 74 kW Highline': {'1.registracija': '2003', 'Gorivo': 'diesel motor', 'Menjalnik': 'ročni menjalnik', 'Motor': '101', 'Cena': '1390'}, 'Dodge Journey SXT 2.0 CRD  6M T]': {'1.registracija': '2009', 'Prevoženih': '335000', 'Gorivo': 'diesel motor', 'Menjalnik': 'avtomatski menjalnik', 'Motor': '140', 'Cena': '1790'}, 'Peugeot 308 1.2°PureTech°STYLE°1LAST°SLO°NA OBROKE-BREZPOLOGA°': {'1.registracija': '2015', 'Prevoženih': '109800', 'Gorivo': 'bencinski motor', 'Menjalnik': 'ročni menjalnik', 'Motor': '131', 'Cena': '8999'}, 'Renault Zoe BOSE - LASTNIŠKA BATERIJA 52kw': {'1.registracija': '2021', 'Prevoženih': '45000', 'Gorivo': 'elektro pogon', 'Motor': '134', 'Menjalnik': 'avtomatski menjalnik', 'Cena': '19990'}}\n"
     ]
    }
   ],
   "source": [
    "#naredimo seznam indeksov, na katerih se nahaja '1.registracija' v seznamu drugi_podatki\n",
    "sez_indeksov = funkcije.na_katerih_indeksih_se_nahaja(drugi_podatki, '1.registracija')\n",
    "\n",
    "slovar = {}\n",
    "vmesni_slovar = {}   #za vsako ime avta zgeneriramo svoj vmesni slovar\n",
    "seznam_kljucev = ['1.registracija', 'Prevoženih', 'Gorivo', 'Menjalnik', 'Motor']\n",
    "i = 1\n",
    "j = 0\n",
    "for el in drugi_podatki:\n",
    "    if i in sez_indeksov: #natanko tedaj, ko naletimo na prvo registracijo, hočemo začet nov vmesni slovar (pri vsakem avtu je ta člen)\n",
    "        slovar[imena_avtov[j]] = vmesni_slovar\n",
    "        vmesni_slovar = {}\n",
    "        j += 1\n",
    "    if drugi_podatki[i - 1] in seznam_kljucev:\n",
    "        vmesni_slovar[drugi_podatki[i - 1]] = drugi_podatki[i]\n",
    "    i += 1\n",
    "\n",
    "#dodamo avtomatski menjalnik k avtom z električnim pogonom (ker na spletni strani tega podatka ni, vendar pa je za obdelavo to uporabno zapisati)\n",
    "for vmesni_slovar in slovar.values():\n",
    "    if 'elektro pogon' in vmesni_slovar.values():\n",
    "        vmesni_slovar['Menjalnik'] = 'avtomatski menjalnik'\n",
    "\n",
    "#dodamo cene na konec vsakega podslovarja\n",
    "for i, (avto, podatki) in enumerate(slovar.items()):\n",
    "    podatki['Cena'] = cene_avtov[i]\n",
    "print(slovar)"
   ]
  },
  {
   "cell_type": "markdown",
   "metadata": {},
   "source": [
    "# 4. Izdelava csv datoteke\n",
    "Na koncu pridelam še csv datoteko, ki jo potem uporabim za obdelavo podatkov."
   ]
  },
  {
   "cell_type": "code",
   "execution_count": 4,
   "metadata": {},
   "outputs": [],
   "source": [
    "#Tu bomo iz slovarja napisali csv datoteko, ki jo bomo kasneje uporabili za analizo podatkov\n",
    "\n",
    "import csv\n",
    "with open('zadnjih_100.csv', 'w', newline='', encoding='utf-8') as g:\n",
    "    zapis = csv.writer(g)\n",
    "    \n",
    "    #Napišemo prvo vrstico\n",
    "    zapis.writerow(['Ime', '1.registracija', 'Prevoženih km', 'Gorivo', 'Menjalnik', 'Motor v KM', 'Cena v €'])\n",
    "    \n",
    "    #Zapišemo podatkev vse naslednje vrstice\n",
    "    for ime, podatki in slovar.items():\n",
    "        zapis.writerow([ime] + [podatki.get(kljuc, '') for kljuc in ['1.registracija', 'Prevoženih', 'Gorivo', 'Menjalnik', 'Motor', 'Cena']])\n",
    "\n"
   ]
  }
 ],
 "metadata": {
  "kernelspec": {
   "display_name": "Python 3",
   "language": "python",
   "name": "python3"
  },
  "language_info": {
   "codemirror_mode": {
    "name": "ipython",
    "version": 3
   },
   "file_extension": ".py",
   "mimetype": "text/x-python",
   "name": "python",
   "nbconvert_exporter": "python",
   "pygments_lexer": "ipython3",
   "version": "3.12.0"
  }
 },
 "nbformat": 4,
 "nbformat_minor": 2
}
