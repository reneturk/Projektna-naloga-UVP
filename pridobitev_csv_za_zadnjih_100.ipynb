{
 "cells": [
  {
   "cell_type": "code",
   "execution_count": 2,
   "metadata": {},
   "outputs": [],
   "source": [
    "import funkcije\n",
    "from bs4 import BeautifulSoup"
   ]
  },
  {
   "cell_type": "markdown",
   "metadata": {},
   "source": [
    "# Pridobitev csv datoteke za zadnjih 100 oglasov na portalu avto.net (dne 26. 10. 2023)\n",
    "\n",
    "Na portalu [avto.net](https://www.avto.net/) je posebna [stran](https://www.avto.net/Ads/results_100.asp?oglasrubrika=1&prodajalec=2), ki vsebuje zadnjih 100 objavljenih oglasov (stran se sproti spreminja). V tem jupyter zvezku pridobim html kodo iz te podstrani, iz nje pridobim podatke, ki me zanimajo (ime avta, 1.registracija, število prevoženih kilometrov, gorivo, menjalnik, moč motorja in cena), te podatke shranim v slovar in na koncu naredim csv datoteko, ki jo kasneje uporabim za analizo.\n",
    "\n"
   ]
  },
  {
   "cell_type": "markdown",
   "metadata": {},
   "source": [
    "# 1. pridobivanje html kode\n",
    "Najprej pridobim html kodo iz spletne podstrani, in jo shranim v datoteko 'zadnjih_100.html'"
   ]
  },
  {
   "cell_type": "code",
   "execution_count": 3,
   "metadata": {},
   "outputs": [],
   "source": [
    "import requests\n",
    "\n",
    "#brez headers, sem dobival 403 error\n",
    "headers = {\n",
    "    'Accept': 'text/html, image/avif, image/webp, image/apng, image/svg+xml, */ *; q=0.8',\n",
    "    'Accept-Encoding': 'gzip, deflate, br',\n",
    "    'Accept-Language': 'en-US, en;q=0.9',\n",
    "    'Connection': 'keep-alive',\n",
    "    'Upgrade-Insecure-Requests': '1',\n",
    "    'Sec-Fetch-Dest': 'document',\n",
    "    'Sec-Fetch-Mode': 'navigate',\n",
    "    'Sec-Fetch-User': '?1',\n",
    "    'Sec-Fetch-Site': 'none',\n",
    "    'User-Agent': 'Mozilla/5.0 (Windows NT 10.0; Win64; x64) AppleWebKit/537.36 (KHTML, like Gecko) Chrome/110.0.0.0 Safari/537.36'\n",
    "} \n",
    "\n",
    "data_request = requests.get('https://www.avto.net/Ads/results_100.asp?', headers=headers)\n",
    "soup = BeautifulSoup(data_request.content, 'html.parser')\n",
    "vsebina_html = soup.prettify()\n",
    "with open(\"zadnjih_100.html\", \"w\", encoding='utf-8') as f:\n",
    "     print(vsebina_html, file=f)"
   ]
  },
  {
   "cell_type": "markdown",
   "metadata": {},
   "source": [
    "# 2. Izluščanje podatkov iz html hode\n",
    "Iz html kode za vsak avto izluščimo naslednje podatke: ime, leto prve registracije, število prevoženih km, gorivo, tip menjalnika, moč motorja in cena. Ceno in ime avta dodamo v svoj seznam, medtem ko druge podatke shranimo vse skupaj v en seznam (zaradi tipa zapisa podatkov v html kodi)."
   ]
  },
  {
   "cell_type": "code",
   "execution_count": 8,
   "metadata": {},
   "outputs": [
    {
     "ename": "AttributeError",
     "evalue": "module 'funkcije' has no attribute 'odstrani_cene'",
     "output_type": "error",
     "traceback": [
      "\u001b[1;31m---------------------------------------------------------------------------\u001b[0m",
      "\u001b[1;31mAttributeError\u001b[0m                            Traceback (most recent call last)",
      "\u001b[1;32mc:\\Users\\renet\\OneDrive\\Namizje\\Projektna uvp\\Github repository folder\\Projektna-naloga-UVP\\pridobitev_csv_za_zadnjih_100.ipynb Cell 6\u001b[0m line \u001b[0;36m3\n\u001b[0;32m     <a href='vscode-notebook-cell:/c%3A/Users/renet/OneDrive/Namizje/Projektna%20uvp/Github%20repository%20folder/Projektna-naloga-UVP/pridobitev_csv_za_zadnjih_100.ipynb#W3sZmlsZQ%3D%3D?line=33'>34</a>\u001b[0m \u001b[39m#sedaj moramo v seznamu cene_avtov rešiti tip 'AKCIJSKA CENA\\n          \\n\\n\\n\\n\\n\\n            13.990 €\\n           \\n\\n            13.690 €' in \u001b[39;00m\n\u001b[0;32m     <a href='vscode-notebook-cell:/c%3A/Users/renet/OneDrive/Namizje/Projektna%20uvp/Github%20repository%20folder/Projektna-naloga-UVP/pridobitev_csv_za_zadnjih_100.ipynb#W3sZmlsZQ%3D%3D?line=34'>35</a>\u001b[0m \u001b[39m#                                              '3.390 €\\n           \\n\\n\\n\\n\\n\\n\\n\\n\\n\\n            oz. 51,00 EUR / mesec (*)'\u001b[39;00m\n\u001b[0;32m     <a href='vscode-notebook-cell:/c%3A/Users/renet/OneDrive/Namizje/Projektna%20uvp/Github%20repository%20folder/Projektna-naloga-UVP/pridobitev_csv_za_zadnjih_100.ipynb#W3sZmlsZQ%3D%3D?line=35'>36</a>\u001b[0m \u001b[39m#                                               '35.999 €\\n           \\n\\n            oz. 29.507 € + DDV(*)'\u001b[39;00m\n\u001b[0;32m     <a href='vscode-notebook-cell:/c%3A/Users/renet/OneDrive/Namizje/Projektna%20uvp/Github%20repository%20folder/Projektna-naloga-UVP/pridobitev_csv_za_zadnjih_100.ipynb#W3sZmlsZQ%3D%3D?line=37'>38</a>\u001b[0m cene_avtov \u001b[39m=\u001b[39m funkcije\u001b[39m.\u001b[39mpoenostavi(cene_avtov)\n\u001b[1;32m---> <a href='vscode-notebook-cell:/c%3A/Users/renet/OneDrive/Namizje/Projektna%20uvp/Github%20repository%20folder/Projektna-naloga-UVP/pridobitev_csv_za_zadnjih_100.ipynb#W3sZmlsZQ%3D%3D?line=38'>39</a>\u001b[0m cene_avtov \u001b[39m=\u001b[39m funkcije\u001b[39m.\u001b[39;49modstrani_cene(cene_avtov)\n\u001b[0;32m     <a href='vscode-notebook-cell:/c%3A/Users/renet/OneDrive/Namizje/Projektna%20uvp/Github%20repository%20folder/Projektna-naloga-UVP/pridobitev_csv_za_zadnjih_100.ipynb#W3sZmlsZQ%3D%3D?line=39'>40</a>\u001b[0m drugi_podatki \u001b[39m=\u001b[39m funkcije\u001b[39m.\u001b[39modstrani_enote(drugi_podatki)\n",
      "\u001b[1;31mAttributeError\u001b[0m: module 'funkcije' has no attribute 'odstrani_cene'"
     ]
    }
   ],
   "source": [
    "with open('zadnjih_100.html', 'r', encoding='utf-8') as f:\n",
    "    vsebina = f.read()\n",
    "    soup = BeautifulSoup(vsebina, 'html.parser')\n",
    "\n",
    "#Pridelamo seznam z imeni vseh avtov (kot so ta zapisana na avto.net)\n",
    "imena_avtov = []\n",
    "\n",
    "#Ker imajo vsa imena avtov pred njimi značko <div class=\"GO-Results-Naziv ... to izkoristimo, da izluščimo imena ven\n",
    "for element in soup.find_all(class_='GO-Results-Naziv'):\n",
    "    imena_avtov.append(element.text.strip())\n",
    "\n",
    "#Sedaj pa pridelamo še en seznam, z vsemi drugimi podatki (hočem, da mi pri motorju pobere samo konjske moči)\n",
    "drugi_podatki = []\n",
    "for element in soup.find_all('td', class_='pl-3'):\n",
    "    drugi_podatki.append(element.text.strip())\n",
    "#drugi_podatki je seznam tipa ['1.registracija', '2011', 'Prevoženih', '270000 km', 'Gorivo', 'bencinski motor']...\n",
    "\n",
    "#hočem, da mi pri moči motorja pobere samo konjske moči,\n",
    "drugi_podatki = funkcije.poberi_km(drugi_podatki)\n",
    "\n",
    "#morebiten podatek samo v kW mi pretvori v KM (1 kW = 1.341 KM) in zaokroži na najbližje celo število\n",
    "drugi_podatki = funkcije.pretvorjeno_v_km(drugi_podatki)\n",
    "\n",
    "#Sedaj pa še cene avtov\n",
    "cene_avtov = []\n",
    "\n",
    "for element in soup.find_all(class_=['GO-Results-Price', 'GO-Results-Top-Price']):\n",
    "    cene_avtov.append(element.text.strip())\n",
    "\n",
    "#V kodi se cena za posamezen avto 2x ponovi (razen pri top ponudbi), zato uporabim funkcijo uredi_seznam, ki mi za vsak avto pusti samo eno ceno\n",
    "cene_avtov = funkcije.uredi_seznam(cene_avtov)\n",
    "\n",
    "\n",
    "#sedaj moramo v seznamu cene_avtov rešiti tip 'AKCIJSKA CENA\\n          \\n\\n\\n\\n\\n\\n            13.990 €\\n           \\n\\n            13.690 €' in \n",
    "#                                              '3.390 €\\n           \\n\\n\\n\\n\\n\\n\\n\\n\\n\\n            oz. 51,00 EUR / mesec (*)'\n",
    "#                                               '35.999 €\\n           \\n\\n            oz. 29.507 € + DDV(*)'\n",
    "\n",
    "cene_avtov = funkcije.poenostavi(cene_avtov)\n",
    "cene_avtov = funkcije.odstrani_cene(cene_avtov)\n",
    "drugi_podatki = funkcije.odstrani_enote(drugi_podatki)"
   ]
  },
  {
   "cell_type": "markdown",
   "metadata": {},
   "source": [
    "# 3. Izdelava slovarja\n",
    "Izdelamo slovar tipa {'ime avta':{'1. registracija': 2011, 'Prevoženih': '270000 km', 'Gorivo': 'bencinski motor', 'Menjalnik': 'avtomatski menjalnik', 'Moč motorja': '160 KM'}}. Slovar sem izbral zato, ker so se določeni podatki v kodi dvakrat ponovili. Nekateri avti pa tudi nimajo podatka o npr. prevoženih kilometrih. Če je bil prisoten kakšen drugi podatek (npr. pri električnih avtih 'Baterija': '52 kW'), ga v slovar nisem dodal."
   ]
  },
  {
   "cell_type": "code",
   "execution_count": null,
   "metadata": {},
   "outputs": [],
   "source": [
    "#naredimo seznam indeksov, na katerih se nahaja '1.registracija' v seznamu drugi_podatki\n",
    "sez_indeksov = funkcije.na_katerih_indeksih_se_nahaja(drugi_podatki, '1.registracija')\n",
    "\n",
    "slovar = {}\n",
    "vmesni_slovar = {}   #za vsako ime avta zgeneriramo svoj vmesni slovar\n",
    "seznam_kljucev = ['1.registracija', 'Prevoženih', 'Gorivo', 'Menjalnik', 'Motor']\n",
    "i = 1\n",
    "j = 0\n",
    "for el in drugi_podatki:\n",
    "    if i in sez_indeksov: #natanko tedaj, ko naletimo na prvo registracijo, hočemo začet nov vmesni slovar (pri vsakem avtu je ta člen)\n",
    "        slovar[imena_avtov[j]] = vmesni_slovar\n",
    "        vmesni_slovar = {}\n",
    "        j += 1\n",
    "    if drugi_podatki[i - 1] in seznam_kljucev:\n",
    "        vmesni_slovar[drugi_podatki[i - 1]] = drugi_podatki[i]\n",
    "    i += 1\n",
    "\n",
    "#dodamo avtomatski menjalnik k avtom z električnim pogonom (ker na spletni strani tega podatka ni, vendar pa je za obdelavo to uporabno zapisati)\n",
    "for vmesni_slovar in slovar.values():\n",
    "    if 'elektro pogon' in vmesni_slovar.values():\n",
    "        vmesni_slovar['Menjalnik'] = 'avtomatski menjalnik'\n",
    "\n",
    "#dodamo cene na konec vsakega podslovarja\n",
    "for i, (avto, podatki) in enumerate(slovar.items()):\n",
    "    podatki['Cena'] = cene_avtov[i]\n",
    "print(slovar)"
   ]
  },
  {
   "cell_type": "markdown",
   "metadata": {},
   "source": [
    "# 4. Izdelava csv datoteke\n",
    "Na koncu pridelam še csv datoteko, ki jo potem uporabim za obdelavo podatkov."
   ]
  },
  {
   "cell_type": "code",
   "execution_count": 4,
   "metadata": {},
   "outputs": [],
   "source": [
    "#Tu bomo iz slovarja napisali csv datoteko, ki jo bomo kasneje uporabili za analizo podatkov\n",
    "\n",
    "import csv\n",
    "with open('zadnjih_100.csv', 'w', newline='', encoding='utf-8') as g:\n",
    "    zapis = csv.writer(g)\n",
    "    \n",
    "    #Napišemo prvo vrstico\n",
    "    zapis.writerow(['Ime', '1.registracija', 'Prevoženih km', 'Gorivo', 'Menjalnik', 'Motor v KM', 'Cena v €'])\n",
    "    \n",
    "    #Zapišemo podatkev vse naslednje vrstice\n",
    "    for ime, podatki in slovar.items():\n",
    "        zapis.writerow([ime] + [podatki.get(kljuc, '') for kljuc in ['1.registracija', 'Prevoženih', 'Gorivo', 'Menjalnik', 'Motor', 'Cena']])\n",
    "\n"
   ]
  }
 ],
 "metadata": {
  "kernelspec": {
   "display_name": "Python 3",
   "language": "python",
   "name": "python3"
  },
  "language_info": {
   "codemirror_mode": {
    "name": "ipython",
    "version": 3
   },
   "file_extension": ".py",
   "mimetype": "text/x-python",
   "name": "python",
   "nbconvert_exporter": "python",
   "pygments_lexer": "ipython3",
   "version": "3.12.0"
  }
 },
 "nbformat": 4,
 "nbformat_minor": 2
}
